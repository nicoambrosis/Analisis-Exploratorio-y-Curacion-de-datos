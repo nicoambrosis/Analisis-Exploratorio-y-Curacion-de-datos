{
 "cells": [
  {
   "cell_type": "markdown",
   "metadata": {
    "id": "zO4bRoxr2Apy"
   },
   "source": [
    "# **Diplomatura en Ciencia de Datos, Aprendizaje Automático y sus Aplicaciones**\n",
    "\n",
    "## **Edición 2022**\n",
    "\n",
    "\n",
    "\n",
    "\n",
    "----\n",
    "\n",
    "# Encodings\n",
    "\n",
    "En esta notebook, vamos a cargar el conjunto de datos de [la compentencia Kaggle](https://www.kaggle.com/dansbecker/melbourne-housing-snapshot) sobre estimación de precios de ventas de propiedades en Melbourne, Australia.\n",
    "\n",
    "Utilizaremos el conjunto de datos reducido producido por [DanB](https://www.kaggle.com/dansbecker). Hemos subido una copia a un servidor de la Universidad Nacional de Córdoba para facilitar su acceso remoto."
   ]
  },
  {
   "cell_type": "code",
   "execution_count": 1,
   "metadata": {},
   "outputs": [],
   "source": [
    "import matplotlib.pyplot as plt\n",
    "import numpy as np\n",
    "import pandas as pd\n",
    "import seaborn as sns\n",
    "sns.set_context('talk')\n",
    "import plotly"
   ]
  },
  {
   "cell_type": "code",
   "execution_count": 2,
   "metadata": {},
   "outputs": [
    {
     "data": {
      "text/html": [
       "<div>\n",
       "<style scoped>\n",
       "    .dataframe tbody tr th:only-of-type {\n",
       "        vertical-align: middle;\n",
       "    }\n",
       "\n",
       "    .dataframe tbody tr th {\n",
       "        vertical-align: top;\n",
       "    }\n",
       "\n",
       "    .dataframe thead th {\n",
       "        text-align: right;\n",
       "    }\n",
       "</style>\n",
       "<table border=\"1\" class=\"dataframe\">\n",
       "  <thead>\n",
       "    <tr style=\"text-align: right;\">\n",
       "      <th></th>\n",
       "      <th>Suburb</th>\n",
       "      <th>Address</th>\n",
       "      <th>Rooms</th>\n",
       "      <th>Type</th>\n",
       "      <th>Price</th>\n",
       "      <th>Method</th>\n",
       "      <th>SellerG</th>\n",
       "      <th>Date</th>\n",
       "      <th>Distance</th>\n",
       "      <th>Postcode</th>\n",
       "      <th>...</th>\n",
       "      <th>Bathroom</th>\n",
       "      <th>Car</th>\n",
       "      <th>Landsize</th>\n",
       "      <th>BuildingArea</th>\n",
       "      <th>YearBuilt</th>\n",
       "      <th>CouncilArea</th>\n",
       "      <th>Lattitude</th>\n",
       "      <th>Longtitude</th>\n",
       "      <th>Regionname</th>\n",
       "      <th>Propertycount</th>\n",
       "    </tr>\n",
       "  </thead>\n",
       "  <tbody>\n",
       "    <tr>\n",
       "      <th>0</th>\n",
       "      <td>Abbotsford</td>\n",
       "      <td>85 Turner St</td>\n",
       "      <td>2</td>\n",
       "      <td>h</td>\n",
       "      <td>1480000.0</td>\n",
       "      <td>S</td>\n",
       "      <td>Biggin</td>\n",
       "      <td>3/12/2016</td>\n",
       "      <td>2.5</td>\n",
       "      <td>3067.0</td>\n",
       "      <td>...</td>\n",
       "      <td>1.0</td>\n",
       "      <td>1.0</td>\n",
       "      <td>202.0</td>\n",
       "      <td>NaN</td>\n",
       "      <td>NaN</td>\n",
       "      <td>Yarra</td>\n",
       "      <td>-37.79960</td>\n",
       "      <td>144.99840</td>\n",
       "      <td>Northern Metropolitan</td>\n",
       "      <td>4019.0</td>\n",
       "    </tr>\n",
       "    <tr>\n",
       "      <th>1</th>\n",
       "      <td>Abbotsford</td>\n",
       "      <td>25 Bloomburg St</td>\n",
       "      <td>2</td>\n",
       "      <td>h</td>\n",
       "      <td>1035000.0</td>\n",
       "      <td>S</td>\n",
       "      <td>Biggin</td>\n",
       "      <td>4/02/2016</td>\n",
       "      <td>2.5</td>\n",
       "      <td>3067.0</td>\n",
       "      <td>...</td>\n",
       "      <td>1.0</td>\n",
       "      <td>0.0</td>\n",
       "      <td>156.0</td>\n",
       "      <td>79.0</td>\n",
       "      <td>1900.0</td>\n",
       "      <td>Yarra</td>\n",
       "      <td>-37.80790</td>\n",
       "      <td>144.99340</td>\n",
       "      <td>Northern Metropolitan</td>\n",
       "      <td>4019.0</td>\n",
       "    </tr>\n",
       "    <tr>\n",
       "      <th>2</th>\n",
       "      <td>Abbotsford</td>\n",
       "      <td>5 Charles St</td>\n",
       "      <td>3</td>\n",
       "      <td>h</td>\n",
       "      <td>1465000.0</td>\n",
       "      <td>SP</td>\n",
       "      <td>Biggin</td>\n",
       "      <td>4/03/2017</td>\n",
       "      <td>2.5</td>\n",
       "      <td>3067.0</td>\n",
       "      <td>...</td>\n",
       "      <td>2.0</td>\n",
       "      <td>0.0</td>\n",
       "      <td>134.0</td>\n",
       "      <td>150.0</td>\n",
       "      <td>1900.0</td>\n",
       "      <td>Yarra</td>\n",
       "      <td>-37.80930</td>\n",
       "      <td>144.99440</td>\n",
       "      <td>Northern Metropolitan</td>\n",
       "      <td>4019.0</td>\n",
       "    </tr>\n",
       "    <tr>\n",
       "      <th>3</th>\n",
       "      <td>Abbotsford</td>\n",
       "      <td>40 Federation La</td>\n",
       "      <td>3</td>\n",
       "      <td>h</td>\n",
       "      <td>850000.0</td>\n",
       "      <td>PI</td>\n",
       "      <td>Biggin</td>\n",
       "      <td>4/03/2017</td>\n",
       "      <td>2.5</td>\n",
       "      <td>3067.0</td>\n",
       "      <td>...</td>\n",
       "      <td>2.0</td>\n",
       "      <td>1.0</td>\n",
       "      <td>94.0</td>\n",
       "      <td>NaN</td>\n",
       "      <td>NaN</td>\n",
       "      <td>Yarra</td>\n",
       "      <td>-37.79690</td>\n",
       "      <td>144.99690</td>\n",
       "      <td>Northern Metropolitan</td>\n",
       "      <td>4019.0</td>\n",
       "    </tr>\n",
       "    <tr>\n",
       "      <th>4</th>\n",
       "      <td>Abbotsford</td>\n",
       "      <td>55a Park St</td>\n",
       "      <td>4</td>\n",
       "      <td>h</td>\n",
       "      <td>1600000.0</td>\n",
       "      <td>VB</td>\n",
       "      <td>Nelson</td>\n",
       "      <td>4/06/2016</td>\n",
       "      <td>2.5</td>\n",
       "      <td>3067.0</td>\n",
       "      <td>...</td>\n",
       "      <td>1.0</td>\n",
       "      <td>2.0</td>\n",
       "      <td>120.0</td>\n",
       "      <td>142.0</td>\n",
       "      <td>2014.0</td>\n",
       "      <td>Yarra</td>\n",
       "      <td>-37.80720</td>\n",
       "      <td>144.99410</td>\n",
       "      <td>Northern Metropolitan</td>\n",
       "      <td>4019.0</td>\n",
       "    </tr>\n",
       "    <tr>\n",
       "      <th>...</th>\n",
       "      <td>...</td>\n",
       "      <td>...</td>\n",
       "      <td>...</td>\n",
       "      <td>...</td>\n",
       "      <td>...</td>\n",
       "      <td>...</td>\n",
       "      <td>...</td>\n",
       "      <td>...</td>\n",
       "      <td>...</td>\n",
       "      <td>...</td>\n",
       "      <td>...</td>\n",
       "      <td>...</td>\n",
       "      <td>...</td>\n",
       "      <td>...</td>\n",
       "      <td>...</td>\n",
       "      <td>...</td>\n",
       "      <td>...</td>\n",
       "      <td>...</td>\n",
       "      <td>...</td>\n",
       "      <td>...</td>\n",
       "      <td>...</td>\n",
       "    </tr>\n",
       "    <tr>\n",
       "      <th>13575</th>\n",
       "      <td>Wheelers Hill</td>\n",
       "      <td>12 Strada Cr</td>\n",
       "      <td>4</td>\n",
       "      <td>h</td>\n",
       "      <td>1245000.0</td>\n",
       "      <td>S</td>\n",
       "      <td>Barry</td>\n",
       "      <td>26/08/2017</td>\n",
       "      <td>16.7</td>\n",
       "      <td>3150.0</td>\n",
       "      <td>...</td>\n",
       "      <td>2.0</td>\n",
       "      <td>2.0</td>\n",
       "      <td>652.0</td>\n",
       "      <td>NaN</td>\n",
       "      <td>1981.0</td>\n",
       "      <td>NaN</td>\n",
       "      <td>-37.90562</td>\n",
       "      <td>145.16761</td>\n",
       "      <td>South-Eastern Metropolitan</td>\n",
       "      <td>7392.0</td>\n",
       "    </tr>\n",
       "    <tr>\n",
       "      <th>13576</th>\n",
       "      <td>Williamstown</td>\n",
       "      <td>77 Merrett Dr</td>\n",
       "      <td>3</td>\n",
       "      <td>h</td>\n",
       "      <td>1031000.0</td>\n",
       "      <td>SP</td>\n",
       "      <td>Williams</td>\n",
       "      <td>26/08/2017</td>\n",
       "      <td>6.8</td>\n",
       "      <td>3016.0</td>\n",
       "      <td>...</td>\n",
       "      <td>2.0</td>\n",
       "      <td>2.0</td>\n",
       "      <td>333.0</td>\n",
       "      <td>133.0</td>\n",
       "      <td>1995.0</td>\n",
       "      <td>NaN</td>\n",
       "      <td>-37.85927</td>\n",
       "      <td>144.87904</td>\n",
       "      <td>Western Metropolitan</td>\n",
       "      <td>6380.0</td>\n",
       "    </tr>\n",
       "    <tr>\n",
       "      <th>13577</th>\n",
       "      <td>Williamstown</td>\n",
       "      <td>83 Power St</td>\n",
       "      <td>3</td>\n",
       "      <td>h</td>\n",
       "      <td>1170000.0</td>\n",
       "      <td>S</td>\n",
       "      <td>Raine</td>\n",
       "      <td>26/08/2017</td>\n",
       "      <td>6.8</td>\n",
       "      <td>3016.0</td>\n",
       "      <td>...</td>\n",
       "      <td>2.0</td>\n",
       "      <td>4.0</td>\n",
       "      <td>436.0</td>\n",
       "      <td>NaN</td>\n",
       "      <td>1997.0</td>\n",
       "      <td>NaN</td>\n",
       "      <td>-37.85274</td>\n",
       "      <td>144.88738</td>\n",
       "      <td>Western Metropolitan</td>\n",
       "      <td>6380.0</td>\n",
       "    </tr>\n",
       "    <tr>\n",
       "      <th>13578</th>\n",
       "      <td>Williamstown</td>\n",
       "      <td>96 Verdon St</td>\n",
       "      <td>4</td>\n",
       "      <td>h</td>\n",
       "      <td>2500000.0</td>\n",
       "      <td>PI</td>\n",
       "      <td>Sweeney</td>\n",
       "      <td>26/08/2017</td>\n",
       "      <td>6.8</td>\n",
       "      <td>3016.0</td>\n",
       "      <td>...</td>\n",
       "      <td>1.0</td>\n",
       "      <td>5.0</td>\n",
       "      <td>866.0</td>\n",
       "      <td>157.0</td>\n",
       "      <td>1920.0</td>\n",
       "      <td>NaN</td>\n",
       "      <td>-37.85908</td>\n",
       "      <td>144.89299</td>\n",
       "      <td>Western Metropolitan</td>\n",
       "      <td>6380.0</td>\n",
       "    </tr>\n",
       "    <tr>\n",
       "      <th>13579</th>\n",
       "      <td>Yarraville</td>\n",
       "      <td>6 Agnes St</td>\n",
       "      <td>4</td>\n",
       "      <td>h</td>\n",
       "      <td>1285000.0</td>\n",
       "      <td>SP</td>\n",
       "      <td>Village</td>\n",
       "      <td>26/08/2017</td>\n",
       "      <td>6.3</td>\n",
       "      <td>3013.0</td>\n",
       "      <td>...</td>\n",
       "      <td>1.0</td>\n",
       "      <td>1.0</td>\n",
       "      <td>362.0</td>\n",
       "      <td>112.0</td>\n",
       "      <td>1920.0</td>\n",
       "      <td>NaN</td>\n",
       "      <td>-37.81188</td>\n",
       "      <td>144.88449</td>\n",
       "      <td>Western Metropolitan</td>\n",
       "      <td>6543.0</td>\n",
       "    </tr>\n",
       "  </tbody>\n",
       "</table>\n",
       "<p>13580 rows × 21 columns</p>\n",
       "</div>"
      ],
      "text/plain": [
       "              Suburb           Address  Rooms Type      Price Method  \\\n",
       "0         Abbotsford      85 Turner St      2    h  1480000.0      S   \n",
       "1         Abbotsford   25 Bloomburg St      2    h  1035000.0      S   \n",
       "2         Abbotsford      5 Charles St      3    h  1465000.0     SP   \n",
       "3         Abbotsford  40 Federation La      3    h   850000.0     PI   \n",
       "4         Abbotsford       55a Park St      4    h  1600000.0     VB   \n",
       "...              ...               ...    ...  ...        ...    ...   \n",
       "13575  Wheelers Hill      12 Strada Cr      4    h  1245000.0      S   \n",
       "13576   Williamstown     77 Merrett Dr      3    h  1031000.0     SP   \n",
       "13577   Williamstown       83 Power St      3    h  1170000.0      S   \n",
       "13578   Williamstown      96 Verdon St      4    h  2500000.0     PI   \n",
       "13579     Yarraville        6 Agnes St      4    h  1285000.0     SP   \n",
       "\n",
       "        SellerG        Date  Distance  Postcode  ...  Bathroom  Car  Landsize  \\\n",
       "0        Biggin   3/12/2016       2.5    3067.0  ...       1.0  1.0     202.0   \n",
       "1        Biggin   4/02/2016       2.5    3067.0  ...       1.0  0.0     156.0   \n",
       "2        Biggin   4/03/2017       2.5    3067.0  ...       2.0  0.0     134.0   \n",
       "3        Biggin   4/03/2017       2.5    3067.0  ...       2.0  1.0      94.0   \n",
       "4        Nelson   4/06/2016       2.5    3067.0  ...       1.0  2.0     120.0   \n",
       "...         ...         ...       ...       ...  ...       ...  ...       ...   \n",
       "13575     Barry  26/08/2017      16.7    3150.0  ...       2.0  2.0     652.0   \n",
       "13576  Williams  26/08/2017       6.8    3016.0  ...       2.0  2.0     333.0   \n",
       "13577     Raine  26/08/2017       6.8    3016.0  ...       2.0  4.0     436.0   \n",
       "13578   Sweeney  26/08/2017       6.8    3016.0  ...       1.0  5.0     866.0   \n",
       "13579   Village  26/08/2017       6.3    3013.0  ...       1.0  1.0     362.0   \n",
       "\n",
       "       BuildingArea  YearBuilt  CouncilArea Lattitude  Longtitude  \\\n",
       "0               NaN        NaN        Yarra -37.79960   144.99840   \n",
       "1              79.0     1900.0        Yarra -37.80790   144.99340   \n",
       "2             150.0     1900.0        Yarra -37.80930   144.99440   \n",
       "3               NaN        NaN        Yarra -37.79690   144.99690   \n",
       "4             142.0     2014.0        Yarra -37.80720   144.99410   \n",
       "...             ...        ...          ...       ...         ...   \n",
       "13575           NaN     1981.0          NaN -37.90562   145.16761   \n",
       "13576         133.0     1995.0          NaN -37.85927   144.87904   \n",
       "13577           NaN     1997.0          NaN -37.85274   144.88738   \n",
       "13578         157.0     1920.0          NaN -37.85908   144.89299   \n",
       "13579         112.0     1920.0          NaN -37.81188   144.88449   \n",
       "\n",
       "                       Regionname Propertycount  \n",
       "0           Northern Metropolitan        4019.0  \n",
       "1           Northern Metropolitan        4019.0  \n",
       "2           Northern Metropolitan        4019.0  \n",
       "3           Northern Metropolitan        4019.0  \n",
       "4           Northern Metropolitan        4019.0  \n",
       "...                           ...           ...  \n",
       "13575  South-Eastern Metropolitan        7392.0  \n",
       "13576        Western Metropolitan        6380.0  \n",
       "13577        Western Metropolitan        6380.0  \n",
       "13578        Western Metropolitan        6380.0  \n",
       "13579        Western Metropolitan        6543.0  \n",
       "\n",
       "[13580 rows x 21 columns]"
      ]
     },
     "execution_count": 2,
     "metadata": {},
     "output_type": "execute_result"
    }
   ],
   "source": [
    "melb_df = pd.read_csv('https://cs.famaf.unc.edu.ar/~mteruel/datasets/diplodatos/melb_data.csv')\n",
    "melb_df"
   ]
  },
  {
   "cell_type": "code",
   "execution_count": 3,
   "metadata": {
    "colab": {
     "base_uri": "https://localhost:8080/",
     "height": 229
    },
    "id": "_qeFN3GnEvMk",
    "outputId": "9d07413f-d6ca-41ab-8dfb-a166c04ef331"
   },
   "outputs": [
    {
     "data": {
      "text/plain": [
       "(13580, 21)"
      ]
     },
     "execution_count": 3,
     "metadata": {},
     "output_type": "execute_result"
    }
   ],
   "source": [
    "melb_df.shape"
   ]
  },
  {
   "cell_type": "code",
   "execution_count": 4,
   "metadata": {},
   "outputs": [
    {
     "data": {
      "text/plain": [
       "Suburb            object\n",
       "Address           object\n",
       "Rooms              int64\n",
       "Type              object\n",
       "Price            float64\n",
       "Method            object\n",
       "SellerG           object\n",
       "Date              object\n",
       "Distance         float64\n",
       "Postcode         float64\n",
       "Bedroom2         float64\n",
       "Bathroom         float64\n",
       "Car              float64\n",
       "Landsize         float64\n",
       "BuildingArea     float64\n",
       "YearBuilt        float64\n",
       "CouncilArea       object\n",
       "Lattitude        float64\n",
       "Longtitude       float64\n",
       "Regionname        object\n",
       "Propertycount    float64\n",
       "dtype: object"
      ]
     },
     "execution_count": 4,
     "metadata": {},
     "output_type": "execute_result"
    }
   ],
   "source": [
    "melb_df.dtypes"
   ]
  },
  {
   "cell_type": "code",
   "execution_count": 5,
   "metadata": {},
   "outputs": [
    {
     "data": {
      "text/plain": [
       "Index(['Suburb', 'Address', 'Type', 'Method', 'SellerG', 'Date', 'CouncilArea',\n",
       "       'Regionname'],\n",
       "      dtype='object')"
      ]
     },
     "execution_count": 5,
     "metadata": {},
     "output_type": "execute_result"
    }
   ],
   "source": [
    "#Cuales son las variables categoricas? \n",
    "melb_df.select_dtypes(include=object).columns\n"
   ]
  },
  {
   "cell_type": "markdown",
   "metadata": {
    "id": "ukho8lZOeGoF"
   },
   "source": [
    "## Codificando valores no numéricos\n",
    "\n",
    "Hasta este momento hemos realizado análisis de datos sobre distintos tipos de variables aleatorias. Sin embargo, muchos métodos utilizados para *Aprendizaje Automático* pueden ser aplicados solamente a matrices numéricas.\n",
    "\n",
    "Por ello, antes de comenzar con cualquier tipo de modelado, tenemos que **codificar** (encode) toda la información categórica utilizando unicamente información numérica. Al realizar este proceso tenemos que tener en cuenta algunas propiedades que tendrán nuestros datos codificados, y cómo impactarán en los modelos."
   ]
  },
  {
   "cell_type": "markdown",
   "metadata": {
    "id": "sAI8HxH-fatk"
   },
   "source": [
    "### One-hot encodings\n",
    "\n",
    "La forma más simple de realizar esta codificación de valores categóricos es construir un vector One-Hot encoding. Opera de la siguiente manera:\n",
    "\n",
    "1. Se identifica el conjunto $C$ de categorías posibles de la variable aleatoria y la cantida de categorías $N = |C|$\n",
    "2. Se asigna un número entero a cada categoría en el rango $[0; N)$.\n",
    "3. Para cada valor $r_i$ de nuestro conjunto de datos con categoría $c_j$:\n",
    "\n",
    "  1. Se construye un vector $x_i$ de 0s de tamaño $N$.\n",
    "  2. Se asigna el valor 1 al vector $x_i$ en la posición de la categoría $c_j$.\n",
    "\n",
    "Comenzaremos a trabajar con la librería scikit-learn, que dispone de la mayoría de funciones necesarias para pre-procesar un conjunto de datos y cuenta con tutoriales que explican las distintas opciones. Les recomendamos la sección de [Encoding Categorical Features](https://scikit-learn.org/stable/modules/preprocessing.html#encoding-categorical-features).\n",
    "\n",
    "Utilizaremos la clase *OneHotEncoder* para realizar la codificación. Todos los transformadores de scikit-learn siguen una misma interfaz en dos etapas: `fit` y `transform`.\n",
    "* El método `fit` (entrenar) es el encargado de recopilar toda la información necesaria para aplicar el encoding. En este caso, implementa los pasos 1 y 2 del algoritmo anterior. \n",
    "* El método `transform` es el que efectivamente construye los encoding para cada fila del conjunto de datos."
   ]
  },
  {
   "cell_type": "markdown",
   "metadata": {},
   "source": [
    "Ver documentacion de [OneHotEncoder](https://scikit-learn.org/stable/modules/generated/sklearn.preprocessing.OneHotEncoder.html)"
   ]
  },
  {
   "cell_type": "markdown",
   "metadata": {},
   "source": [
    "### OneHotEncoder. Variante_1"
   ]
  },
  {
   "cell_type": "code",
   "execution_count": 6,
   "metadata": {},
   "outputs": [
    {
     "data": {
      "text/plain": [
       "OneHotEncoder(sparse=False)"
      ]
     },
     "execution_count": 6,
     "metadata": {},
     "output_type": "execute_result"
    }
   ],
   "source": [
    "from sklearn.preprocessing import OneHotEncoder\n",
    "\n",
    "encoder_one_hot = OneHotEncoder(sparse = False)\n",
    "encoder_one_hot.fit(melb_df[['Type']])\n",
    "# El método fit (entrenar) es el encargado de recopilar toda la información necesaria para aplicar el encoding.\n",
    "# En este caso, implementa los pasos 1 y 2 del algoritmo anterior.\n",
    "\n",
    "# notar que la columna esta pasada como una DataFrame, con doble corchetes\n",
    "\n",
    "# en este caso vamos a aplicar la transformacion solo a la columna (feature) Type.\n",
    "# pero podria aplicarse a dos o mas columnas (ver mas adelante en esta misma notebook).\n",
    "\n",
    "# Hasta ahora NO aplicamos la codificacion, simplemente recopilamos cuales son las categorias que hay que codificar"
   ]
  },
  {
   "cell_type": "code",
   "execution_count": 7,
   "metadata": {},
   "outputs": [
    {
     "data": {
      "text/plain": [
       "[array(['h', 't', 'u'], dtype=object)]"
      ]
     },
     "execution_count": 7,
     "metadata": {},
     "output_type": "execute_result"
    }
   ],
   "source": [
    "# para ver las categorias que fueron codificadas:\n",
    "encoder_one_hot.categories_"
   ]
  },
  {
   "cell_type": "code",
   "execution_count": 8,
   "metadata": {
    "colab": {
     "base_uri": "https://localhost:8080/"
    },
    "id": "GZkEsVk6ncco",
    "outputId": "37a4c268-27e2-42d7-d8aa-05be1621a98d"
   },
   "outputs": [
    {
     "data": {
      "text/plain": [
       "array([[1., 0., 0.],\n",
       "       [1., 0., 0.],\n",
       "       [1., 0., 0.],\n",
       "       ...,\n",
       "       [1., 0., 0.],\n",
       "       [1., 0., 0.],\n",
       "       [1., 0., 0.]])"
      ]
     },
     "execution_count": 8,
     "metadata": {},
     "output_type": "execute_result"
    }
   ],
   "source": [
    "encoded_types = encoder_one_hot.transform(melb_df[['Type']]) # con esta linea (.transform()) aplicamos la transformacion,\n",
    "                                                    # en este caso la codificacion.\n",
    "encoded_types"
   ]
  },
  {
   "cell_type": "markdown",
   "metadata": {},
   "source": [
    "### OneHotEncoder. Variante_2"
   ]
  },
  {
   "cell_type": "markdown",
   "metadata": {
    "colab": {
     "base_uri": "https://localhost:8080/"
    },
    "id": "ytU00BPLpKNJ",
    "outputId": "524a2687-ea4b-41a8-d83b-7a4711a19c46"
   },
   "source": [
    "Si no necesitamos almacenar las categorias en una variable, podemos hacer el entrenamiento y la aplicacion en un solo paso usando la funcion fit_transform()"
   ]
  },
  {
   "cell_type": "code",
   "execution_count": 9,
   "metadata": {},
   "outputs": [],
   "source": [
    "from sklearn.preprocessing import OneHotEncoder\n",
    "encoder_One_Hot = OneHotEncoder(sparse=False)\n",
    "matrix_One_Hot = encoder_One_Hot.fit_transform(melb_df[['Type']]) # usamos la funcion fit_transform()"
   ]
  },
  {
   "cell_type": "code",
   "execution_count": 10,
   "metadata": {},
   "outputs": [
    {
     "data": {
      "text/plain": [
       "array([[1., 0., 0.],\n",
       "       [1., 0., 0.],\n",
       "       [1., 0., 0.],\n",
       "       ...,\n",
       "       [1., 0., 0.],\n",
       "       [1., 0., 0.],\n",
       "       [1., 0., 0.]])"
      ]
     },
     "execution_count": 10,
     "metadata": {},
     "output_type": "execute_result"
    }
   ],
   "source": [
    "matrix_One_Hot"
   ]
  },
  {
   "cell_type": "code",
   "execution_count": 11,
   "metadata": {},
   "outputs": [
    {
     "data": {
      "text/plain": [
       "[array(['h', 't', 'u'], dtype=object)]"
      ]
     },
     "execution_count": 11,
     "metadata": {},
     "output_type": "execute_result"
    }
   ],
   "source": [
    "encoder_One_Hot.categories_\n",
    "# aunque usemos el metodo abreviado igual podemos acceder a las categorias"
   ]
  },
  {
   "cell_type": "markdown",
   "metadata": {},
   "source": [
    "---"
   ]
  },
  {
   "cell_type": "markdown",
   "metadata": {},
   "source": [
    "### DictVectorizer"
   ]
  },
  {
   "cell_type": "markdown",
   "metadata": {
    "id": "QzFrQVzqnQop"
   },
   "source": [
    "Si quisieramos seguir trabajando con la matriz codificada deberiamos juntarla con el resto de los datos numericos que tenia el df. Esto implica una serie de pasosadicionales.\n",
    "\\\n",
    "\\\n",
    "Esta transformación es tan común que Scikit-lean implementa el transformador `DictVectorizer` que codifican automáticamente todos las columnas categóricas y los combinan con los datos numéricos existentes. De esta manera nos ahorramos algunos pasos respecto de la funcion que aplicamos antes (OneHotEncoder().\n",
    "\n",
    "Para poder utilizarlo, tendremos que convertir el conjunto de datos en una lista de diccionarios.\n"
   ]
  },
  {
   "cell_type": "code",
   "execution_count": 12,
   "metadata": {},
   "outputs": [
    {
     "data": {
      "text/plain": [
       "{'Suburb': 'Abbotsford',\n",
       " 'Type': 'h',\n",
       " 'Distance': 2.5,\n",
       " 'Bedroom2': 2.0,\n",
       " 'Bathroom': 1.0,\n",
       " 'Car': 0.0,\n",
       " 'Landsize': 156.0,\n",
       " 'BuildingArea': 79.0,\n",
       " 'YearBuilt': 1900.0,\n",
       " 'Regionname': 'Northern Metropolitan'}"
      ]
     },
     "execution_count": 12,
     "metadata": {},
     "output_type": "execute_result"
    }
   ],
   "source": [
    "'''\n",
    "feature_cols = ['Suburb',\n",
    "                'Type',\n",
    "                'Method',\n",
    "                'SellerG',\n",
    "                'Date',\n",
    "                'CouncilArea',\n",
    "                'Regionname']\n",
    "'''\n",
    "feature_cols = ['Suburb', 'Type', 'Distance', 'Bedroom2', 'Bathroom',\n",
    "            'Car', 'Landsize', 'BuildingArea', 'YearBuilt', 'Regionname']\n",
    "\n",
    "feature_dict = list(melb_df[feature_cols].T.to_dict().values())\n",
    "feature_dict[1]"
   ]
  },
  {
   "cell_type": "code",
   "execution_count": 13,
   "metadata": {},
   "outputs": [
    {
     "data": {
      "text/plain": [
       "[{'Suburb': 'Abbotsford',\n",
       "  'Type': 'h',\n",
       "  'Distance': 2.5,\n",
       "  'Bedroom2': 2.0,\n",
       "  'Bathroom': 1.0,\n",
       "  'Car': 1.0,\n",
       "  'Landsize': 202.0,\n",
       "  'BuildingArea': nan,\n",
       "  'YearBuilt': nan,\n",
       "  'Regionname': 'Northern Metropolitan'},\n",
       " {'Suburb': 'Abbotsford',\n",
       "  'Type': 'h',\n",
       "  'Distance': 2.5,\n",
       "  'Bedroom2': 2.0,\n",
       "  'Bathroom': 1.0,\n",
       "  'Car': 0.0,\n",
       "  'Landsize': 156.0,\n",
       "  'BuildingArea': 79.0,\n",
       "  'YearBuilt': 1900.0,\n",
       "  'Regionname': 'Northern Metropolitan'}]"
      ]
     },
     "execution_count": 13,
     "metadata": {},
     "output_type": "execute_result"
    }
   ],
   "source": [
    "feature_dict[:2]"
   ]
  },
  {
   "cell_type": "markdown",
   "metadata": {},
   "source": [
    "Notar que el resultado que obtuvimos es una LISTA  de DICCIONARIOS en donde:\n",
    "* Cada elemento de la **LISTA** es un **DICCIONARIO**\n",
    "* Cada **DICCIONARIO** es una **OBSERVACION** del DF original\n",
    "* Cada **VALUE** del diccionario tiene el nombre de una **COLUMNA**\n",
    "* Cada **KEY** del diccionario tiene el valor de la celda original "
   ]
  },
  {
   "cell_type": "code",
   "execution_count": 14,
   "metadata": {},
   "outputs": [],
   "source": [
    "from sklearn.feature_extraction import DictVectorizer\n",
    "encoder_dv = DictVectorizer(sparse=True) #el parametro sparse lo dejamos en True (su valor por defecto)\n",
    "feature_matrix = encoder_dv.fit_transform(feature_dict)"
   ]
  },
  {
   "cell_type": "code",
   "execution_count": 15,
   "metadata": {},
   "outputs": [
    {
     "data": {
      "text/plain": [
       "<13580x332 sparse matrix of type '<class 'numpy.float64'>'\n",
       "\twith 135800 stored elements in Compressed Sparse Row format>"
      ]
     },
     "execution_count": 15,
     "metadata": {},
     "output_type": "execute_result"
    }
   ],
   "source": [
    "feature_matrix \n",
    "# esta es una matriz esparsa (no densa) que tiene las variables categoricas codificadas."
   ]
  },
  {
   "cell_type": "code",
   "execution_count": 16,
   "metadata": {
    "colab": {
     "base_uri": "https://localhost:8080/"
    },
    "id": "h09DGJAbXu_4",
    "outputId": "38a06cec-d3b6-4dd5-c813-e9fd1eafe326",
    "scrolled": false
   },
   "outputs": [
    {
     "data": {
      "text/plain": [
       "['Bathroom',\n",
       " 'Bedroom2',\n",
       " 'BuildingArea',\n",
       " 'Car',\n",
       " 'Distance',\n",
       " 'Landsize',\n",
       " 'Regionname=Eastern Metropolitan',\n",
       " 'Regionname=Eastern Victoria',\n",
       " 'Regionname=Northern Metropolitan',\n",
       " 'Regionname=Northern Victoria',\n",
       " 'Regionname=South-Eastern Metropolitan',\n",
       " 'Regionname=Southern Metropolitan',\n",
       " 'Regionname=Western Metropolitan',\n",
       " 'Regionname=Western Victoria',\n",
       " 'Suburb=Abbotsford',\n",
       " 'Suburb=Aberfeldie',\n",
       " 'Suburb=Airport West',\n",
       " 'Suburb=Albanvale',\n",
       " 'Suburb=Albert Park',\n",
       " 'Suburb=Albion',\n",
       " 'Suburb=Alphington',\n",
       " 'Suburb=Altona',\n",
       " 'Suburb=Altona Meadows',\n",
       " 'Suburb=Altona North',\n",
       " 'Suburb=Ardeer',\n",
       " 'Suburb=Armadale',\n",
       " 'Suburb=Ascot Vale',\n",
       " 'Suburb=Ashburton',\n",
       " 'Suburb=Ashwood',\n",
       " 'Suburb=Aspendale',\n",
       " 'Suburb=Aspendale Gardens',\n",
       " 'Suburb=Attwood',\n",
       " 'Suburb=Avondale Heights',\n",
       " 'Suburb=Bacchus Marsh',\n",
       " 'Suburb=Balaclava',\n",
       " 'Suburb=Balwyn',\n",
       " 'Suburb=Balwyn North',\n",
       " 'Suburb=Bayswater',\n",
       " 'Suburb=Bayswater North',\n",
       " 'Suburb=Beaconsfield',\n",
       " 'Suburb=Beaconsfield Upper',\n",
       " 'Suburb=Beaumaris',\n",
       " 'Suburb=Bellfield',\n",
       " 'Suburb=Bentleigh',\n",
       " 'Suburb=Bentleigh East',\n",
       " 'Suburb=Berwick',\n",
       " 'Suburb=Black Rock',\n",
       " 'Suburb=Blackburn',\n",
       " 'Suburb=Blackburn North',\n",
       " 'Suburb=Blackburn South']"
      ]
     },
     "execution_count": 16,
     "metadata": {},
     "output_type": "execute_result"
    }
   ],
   "source": [
    "encoder_dv.get_feature_names()[:50]\n",
    "# notar que la funcion get_feature_names() se aplica sobre el encoder y no sobre la matriz"
   ]
  },
  {
   "cell_type": "markdown",
   "metadata": {
    "id": "NL-2EeVepmwM"
   },
   "source": [
    "## Matrices esparsas\n",
    "\n",
    "Las codificaciones one-hot tienen la propiedad de aumentar la cantidad de memoria requerida para almacenar una variable de manera **cuadrática** con respecto al número de categorías. Sin embargo, la mayoría de los elementos de la nueva representación serán nulos. La cantidad de elementos no-nulos de la matriz crece **linealmente** con respecto al número de categorías a representar.\n",
    "\n",
    "Por ello existen las *matrices esparsas*, que almacenan unicamente los valores no-nulos de una matriz en distintas estructuras de datos.\n",
    "\n",
    "Los métodos de codificación como `DictVectorizer` o `OneHotEncoding` suelen devolver como resultado matrices esparsas si es más eficiente en términos de recursos computacionales."
   ]
  },
  {
   "cell_type": "code",
   "execution_count": 17,
   "metadata": {},
   "outputs": [
    {
     "data": {
      "text/plain": [
       "<13580x332 sparse matrix of type '<class 'numpy.float64'>'\n",
       "\twith 135800 stored elements in Compressed Sparse Row format>"
      ]
     },
     "execution_count": 17,
     "metadata": {},
     "output_type": "execute_result"
    }
   ],
   "source": [
    "feature_matrix\n",
    "# notar que como resultado de aplica la funcion DictVectorizer obtuvimos una matriz esparsa \n",
    "# que condensa la informacion de una matriz densa de 13580 observaciones y 690 columnas"
   ]
  },
  {
   "cell_type": "markdown",
   "metadata": {
    "id": "OwRP4L5W5imQ"
   },
   "source": [
    "![picture](https://matteding.github.io/images/coo.gif)"
   ]
  },
  {
   "cell_type": "markdown",
   "metadata": {
    "id": "ilnr3YGn7AiT"
   },
   "source": [
    "Existen [distintos tipos de matrices esparsas](https://docs.scipy.org/doc/scipy/reference/sparse.html) y las operaciones sobre cada una de ellas son distintas; y distintas a las matrices densas."
   ]
  },
  {
   "cell_type": "code",
   "execution_count": 18,
   "metadata": {
    "id": "y6Y-aZe8aNOh"
   },
   "outputs": [],
   "source": [
    "# Fill nan values on sparse matrix.\n",
    "if np.any(np.isnan(feature_matrix.data)):\n",
    "    feature_matrix.data = np.nan_to_num(feature_matrix.data)"
   ]
  },
  {
   "cell_type": "markdown",
   "metadata": {
    "id": "4LkBnuWl7ADv"
   },
   "source": [
    "Para aplicar algunas transformaciones o modelos es necesario convertir las matrices esparsas a densas. Antes de realizar este cambio, es recomendable calcular el tamaño de la matriz final. Recordar que cada número de punto flotante ocupa 4 bytes para la precisión simple (numpy.float32) y 8 bytes para la precisión doble (numpy.float64)."
   ]
  },
  {
   "cell_type": "code",
   "execution_count": 19,
   "metadata": {},
   "outputs": [
    {
     "data": {
      "text/plain": [
       "17611.5625"
      ]
     },
     "execution_count": 19,
     "metadata": {},
     "output_type": "execute_result"
    }
   ],
   "source": [
    "feature_matrix.shape[0] * feature_matrix.shape[1] * 4 / 1024\n"
   ]
  },
  {
   "cell_type": "code",
   "execution_count": 20,
   "metadata": {
    "colab": {
     "base_uri": "https://localhost:8080/"
    },
    "id": "V65d7TWLc3CX",
    "outputId": "bfd3c335-c41d-405a-f86a-7449f6c76168"
   },
   "outputs": [
    {
     "name": "stdout",
     "output_type": "stream",
     "text": [
      "The dense matrix will weight approximately 17.20 MB\n",
      "Matrix too big! Using only first 7895 of 13580 rows\n",
      "Final size: 10.00\n"
     ]
    }
   ],
   "source": [
    "# Before doing this type of conversion, it's mandatory to calculate the\n",
    "# size of the resulting matrix!\n",
    "matrix_size = feature_matrix.shape[0] * feature_matrix.shape[1] * 4 # en bytes\n",
    "matrix_size_kb = matrix_size / 1024\n",
    "matrix_size_mb = matrix_size_kb / 1024\n",
    "print(f\"The dense matrix will weight approximately {matrix_size_mb:.2f} MB\")\n",
    "\n",
    "#-------------------------------------------------------------------------------------\n",
    "\n",
    "limit_size_mb = 10 # no queremos que la matriz ocupe mas de 10 Mb\n",
    "precision_type = np.float32\n",
    "if matrix_size_mb < limit_size_mb:  # Matrix is less than 10MB\n",
    "    dense_feature_matrix = feature_matrix.astype(precision_type).todense()\n",
    "    print('Sparse matrix was converted to Dense matrix')\n",
    "else:\n",
    "    # We calculate how many rows would fit given the number of columns\n",
    "    n_rows = int(limit_size_mb *1024 * 1024 / 4 / feature_matrix.shape[1])\n",
    "    \n",
    "    print(f\"Matrix too big! Using only first {n_rows} of {feature_matrix.shape[0]} rows\")\n",
    "    dense_feature_matrix = feature_matrix[:n_rows].astype(precision_type).todense() # con esta linea convertimos UNA parte\n",
    "                                                                                    # a una matriz densa\n",
    "\n",
    "# -----------------------------------------------------------------------------------\n",
    "print(\"Final size: {:.2f}\".format(dense_feature_matrix.nbytes / 1024 / 1024))"
   ]
  },
  {
   "cell_type": "code",
   "execution_count": 21,
   "metadata": {
    "id": "C-W3PxYv_jwE"
   },
   "outputs": [],
   "source": [
    "# Remember to cut your original data as well.\n",
    "if dense_feature_matrix.shape[0] < len(melb_df):\n",
    "    melb_df_sample = melb_df.iloc[:dense_feature_matrix.shape[0]]\n",
    "else:\n",
    "    melb_df_sample = melb_df"
   ]
  },
  {
   "cell_type": "markdown",
   "metadata": {},
   "source": [
    "HASTA AHORA...\\\n",
    "\\\n",
    "**dense_feature_matrix** es una matriz con los datos categoricos codificados pero que tuvo que ser recortada porque el tamano era demasiado grande\n",
    "\n",
    "**melb_df_sample** es la df original que fue cortada en la misma fila que la matriz dense_feature_matrix"
   ]
  },
  {
   "cell_type": "markdown",
   "metadata": {
    "id": "nm_A30lDfwlg"
   },
   "source": [
    "## Reducción de dimensionalidad con PCA\n",
    "\n",
    "En las siguientes filas, aplicaremos [PCA](https://scikit-learn.org/stable/modules/decomposition.html#pca) para reducir la dimensionalidad del conjunto de datos a 2 dimensiones."
   ]
  },
  {
   "cell_type": "code",
   "execution_count": 22,
   "metadata": {},
   "outputs": [
    {
     "data": {
      "text/plain": [
       "(-1.0, 1.0)"
      ]
     },
     "execution_count": 22,
     "metadata": {},
     "output_type": "execute_result"
    }
   ],
   "source": [
    "from sklearn.preprocessing import MinMaxScaler\n",
    "\n",
    "scaler = MinMaxScaler(feature_range=(-1,1)) #notar que en la notebook 05 PCA Iris dataset habiamos usado StandardScaler\n",
    "scaled_dense_feature_matrix = scaler.fit_transform(dense_feature_matrix)\n",
    "np.min(scaled_dense_feature_matrix), np.max(scaled_dense_feature_matrix)"
   ]
  },
  {
   "cell_type": "code",
   "execution_count": 23,
   "metadata": {},
   "outputs": [
    {
     "data": {
      "text/plain": [
       "((7895, 15),\n",
       " array([[-1.389683  ,  0.99675363, -1.1036108 ,  1.109607  , -0.22952704,\n",
       "         -0.36260924,  0.56025743, -0.01363332,  0.02505708, -0.12547147,\n",
       "         -0.113809  , -0.0198013 , -0.00842537,  0.04081838,  0.14470097],\n",
       "        [-1.1829128 ,  1.1808188 , -0.94768786, -0.74071324, -0.3432142 ,\n",
       "         -0.37152442,  0.54984623, -0.02651904,  0.05110897, -0.14750643,\n",
       "         -0.12665328, -0.01567975,  0.00393162,  0.05933094,  0.12769905]],\n",
       "       dtype=float32))"
      ]
     },
     "execution_count": 23,
     "metadata": {},
     "output_type": "execute_result"
    }
   ],
   "source": [
    "from sklearn.decomposition import PCA\n",
    "\n",
    "pca = PCA(n_components=15)\n",
    "pca.fit(scaled_dense_feature_matrix)\n",
    "proyected_features = pca.transform(scaled_dense_feature_matrix)\n",
    "proyected_features.shape, proyected_features[:2] "
   ]
  },
  {
   "cell_type": "code",
   "execution_count": 24,
   "metadata": {},
   "outputs": [
    {
     "data": {
      "text/plain": [
       "array([0.17174335, 0.13777173, 0.10051891, 0.08688542, 0.04767594,\n",
       "       0.04187408, 0.02466754, 0.01059206, 0.00950293, 0.00887787,\n",
       "       0.00808983, 0.00782328, 0.0077054 , 0.00715356, 0.00691018],\n",
       "      dtype=float32)"
      ]
     },
     "execution_count": 24,
     "metadata": {},
     "output_type": "execute_result"
    }
   ],
   "source": [
    "pca.explained_variance_ratio_"
   ]
  },
  {
   "cell_type": "code",
   "execution_count": 25,
   "metadata": {},
   "outputs": [
    {
     "name": "stderr",
     "output_type": "stream",
     "text": [
      "c:\\users\\nico.-\\appdata\\local\\programs\\python\\python38\\lib\\site-packages\\pandas\\core\\indexing.py:659: SettingWithCopyWarning: \n",
      "A value is trying to be set on a copy of a slice from a DataFrame.\n",
      "Try using .loc[row_indexer,col_indexer] = value instead\n",
      "\n",
      "See the caveats in the documentation: https://pandas.pydata.org/pandas-docs/stable/user_guide/indexing.html#returning-a-view-versus-a-copy\n",
      "  self.obj[k] = np.nan\n",
      "<ipython-input-25-30fc4eb5c79f>:4: SettingWithCopyWarning: \n",
      "A value is trying to be set on a copy of a slice from a DataFrame.\n",
      "Try using .loc[row_indexer,col_indexer] = value instead\n",
      "\n",
      "See the caveats in the documentation: https://pandas.pydata.org/pandas-docs/stable/user_guide/indexing.html#returning-a-view-versus-a-copy\n",
      "  melb_df_sample[['PC1', 'PC2']] = proyected_features[:,:2]\n",
      "c:\\users\\nico.-\\appdata\\local\\programs\\python\\python38\\lib\\site-packages\\pandas\\core\\indexing.py:1736: SettingWithCopyWarning: \n",
      "A value is trying to be set on a copy of a slice from a DataFrame.\n",
      "Try using .loc[row_indexer,col_indexer] = value instead\n",
      "\n",
      "See the caveats in the documentation: https://pandas.pydata.org/pandas-docs/stable/user_guide/indexing.html#returning-a-view-versus-a-copy\n",
      "  isetter(loc, value[:, i].tolist())\n"
     ]
    },
    {
     "data": {
      "text/html": [
       "<div>\n",
       "<style scoped>\n",
       "    .dataframe tbody tr th:only-of-type {\n",
       "        vertical-align: middle;\n",
       "    }\n",
       "\n",
       "    .dataframe tbody tr th {\n",
       "        vertical-align: top;\n",
       "    }\n",
       "\n",
       "    .dataframe thead th {\n",
       "        text-align: right;\n",
       "    }\n",
       "</style>\n",
       "<table border=\"1\" class=\"dataframe\">\n",
       "  <thead>\n",
       "    <tr style=\"text-align: right;\">\n",
       "      <th></th>\n",
       "      <th>Suburb</th>\n",
       "      <th>Address</th>\n",
       "      <th>Rooms</th>\n",
       "      <th>Type</th>\n",
       "      <th>Price</th>\n",
       "      <th>Method</th>\n",
       "      <th>SellerG</th>\n",
       "      <th>Date</th>\n",
       "      <th>Distance</th>\n",
       "      <th>Postcode</th>\n",
       "      <th>...</th>\n",
       "      <th>Landsize</th>\n",
       "      <th>BuildingArea</th>\n",
       "      <th>YearBuilt</th>\n",
       "      <th>CouncilArea</th>\n",
       "      <th>Lattitude</th>\n",
       "      <th>Longtitude</th>\n",
       "      <th>Regionname</th>\n",
       "      <th>Propertycount</th>\n",
       "      <th>PC1</th>\n",
       "      <th>PC2</th>\n",
       "    </tr>\n",
       "  </thead>\n",
       "  <tbody>\n",
       "    <tr>\n",
       "      <th>0</th>\n",
       "      <td>Abbotsford</td>\n",
       "      <td>85 Turner St</td>\n",
       "      <td>2</td>\n",
       "      <td>h</td>\n",
       "      <td>1480000.0</td>\n",
       "      <td>S</td>\n",
       "      <td>Biggin</td>\n",
       "      <td>3/12/2016</td>\n",
       "      <td>2.5</td>\n",
       "      <td>3067.0</td>\n",
       "      <td>...</td>\n",
       "      <td>202.0</td>\n",
       "      <td>NaN</td>\n",
       "      <td>NaN</td>\n",
       "      <td>Yarra</td>\n",
       "      <td>-37.7996</td>\n",
       "      <td>144.9984</td>\n",
       "      <td>Northern Metropolitan</td>\n",
       "      <td>4019.0</td>\n",
       "      <td>-1.389683</td>\n",
       "      <td>0.996754</td>\n",
       "    </tr>\n",
       "    <tr>\n",
       "      <th>1</th>\n",
       "      <td>Abbotsford</td>\n",
       "      <td>25 Bloomburg St</td>\n",
       "      <td>2</td>\n",
       "      <td>h</td>\n",
       "      <td>1035000.0</td>\n",
       "      <td>S</td>\n",
       "      <td>Biggin</td>\n",
       "      <td>4/02/2016</td>\n",
       "      <td>2.5</td>\n",
       "      <td>3067.0</td>\n",
       "      <td>...</td>\n",
       "      <td>156.0</td>\n",
       "      <td>79.0</td>\n",
       "      <td>1900.0</td>\n",
       "      <td>Yarra</td>\n",
       "      <td>-37.8079</td>\n",
       "      <td>144.9934</td>\n",
       "      <td>Northern Metropolitan</td>\n",
       "      <td>4019.0</td>\n",
       "      <td>-1.182913</td>\n",
       "      <td>1.180819</td>\n",
       "    </tr>\n",
       "    <tr>\n",
       "      <th>2</th>\n",
       "      <td>Abbotsford</td>\n",
       "      <td>5 Charles St</td>\n",
       "      <td>3</td>\n",
       "      <td>h</td>\n",
       "      <td>1465000.0</td>\n",
       "      <td>SP</td>\n",
       "      <td>Biggin</td>\n",
       "      <td>4/03/2017</td>\n",
       "      <td>2.5</td>\n",
       "      <td>3067.0</td>\n",
       "      <td>...</td>\n",
       "      <td>134.0</td>\n",
       "      <td>150.0</td>\n",
       "      <td>1900.0</td>\n",
       "      <td>Yarra</td>\n",
       "      <td>-37.8093</td>\n",
       "      <td>144.9944</td>\n",
       "      <td>Northern Metropolitan</td>\n",
       "      <td>4019.0</td>\n",
       "      <td>-1.189168</td>\n",
       "      <td>1.167866</td>\n",
       "    </tr>\n",
       "    <tr>\n",
       "      <th>3</th>\n",
       "      <td>Abbotsford</td>\n",
       "      <td>40 Federation La</td>\n",
       "      <td>3</td>\n",
       "      <td>h</td>\n",
       "      <td>850000.0</td>\n",
       "      <td>PI</td>\n",
       "      <td>Biggin</td>\n",
       "      <td>4/03/2017</td>\n",
       "      <td>2.5</td>\n",
       "      <td>3067.0</td>\n",
       "      <td>...</td>\n",
       "      <td>94.0</td>\n",
       "      <td>NaN</td>\n",
       "      <td>NaN</td>\n",
       "      <td>Yarra</td>\n",
       "      <td>-37.7969</td>\n",
       "      <td>144.9969</td>\n",
       "      <td>Northern Metropolitan</td>\n",
       "      <td>4019.0</td>\n",
       "      <td>-1.395891</td>\n",
       "      <td>0.983875</td>\n",
       "    </tr>\n",
       "    <tr>\n",
       "      <th>4</th>\n",
       "      <td>Abbotsford</td>\n",
       "      <td>55a Park St</td>\n",
       "      <td>4</td>\n",
       "      <td>h</td>\n",
       "      <td>1600000.0</td>\n",
       "      <td>VB</td>\n",
       "      <td>Nelson</td>\n",
       "      <td>4/06/2016</td>\n",
       "      <td>2.5</td>\n",
       "      <td>3067.0</td>\n",
       "      <td>...</td>\n",
       "      <td>120.0</td>\n",
       "      <td>142.0</td>\n",
       "      <td>2014.0</td>\n",
       "      <td>Yarra</td>\n",
       "      <td>-37.8072</td>\n",
       "      <td>144.9941</td>\n",
       "      <td>Northern Metropolitan</td>\n",
       "      <td>4019.0</td>\n",
       "      <td>-1.190541</td>\n",
       "      <td>1.164553</td>\n",
       "    </tr>\n",
       "    <tr>\n",
       "      <th>...</th>\n",
       "      <td>...</td>\n",
       "      <td>...</td>\n",
       "      <td>...</td>\n",
       "      <td>...</td>\n",
       "      <td>...</td>\n",
       "      <td>...</td>\n",
       "      <td>...</td>\n",
       "      <td>...</td>\n",
       "      <td>...</td>\n",
       "      <td>...</td>\n",
       "      <td>...</td>\n",
       "      <td>...</td>\n",
       "      <td>...</td>\n",
       "      <td>...</td>\n",
       "      <td>...</td>\n",
       "      <td>...</td>\n",
       "      <td>...</td>\n",
       "      <td>...</td>\n",
       "      <td>...</td>\n",
       "      <td>...</td>\n",
       "      <td>...</td>\n",
       "    </tr>\n",
       "    <tr>\n",
       "      <th>7890</th>\n",
       "      <td>Glen Iris</td>\n",
       "      <td>28 Martin Rd</td>\n",
       "      <td>3</td>\n",
       "      <td>h</td>\n",
       "      <td>1601000.0</td>\n",
       "      <td>S</td>\n",
       "      <td>Marshall</td>\n",
       "      <td>20/05/2017</td>\n",
       "      <td>9.2</td>\n",
       "      <td>3146.0</td>\n",
       "      <td>...</td>\n",
       "      <td>453.0</td>\n",
       "      <td>102.0</td>\n",
       "      <td>1930.0</td>\n",
       "      <td>Boroondara</td>\n",
       "      <td>-37.8487</td>\n",
       "      <td>145.0592</td>\n",
       "      <td>Southern Metropolitan</td>\n",
       "      <td>10412.0</td>\n",
       "      <td>0.195195</td>\n",
       "      <td>-1.444169</td>\n",
       "    </tr>\n",
       "    <tr>\n",
       "      <th>7891</th>\n",
       "      <td>Glen Iris</td>\n",
       "      <td>1/18 Peace St</td>\n",
       "      <td>2</td>\n",
       "      <td>t</td>\n",
       "      <td>797000.0</td>\n",
       "      <td>S</td>\n",
       "      <td>Jellis</td>\n",
       "      <td>20/05/2017</td>\n",
       "      <td>9.2</td>\n",
       "      <td>3146.0</td>\n",
       "      <td>...</td>\n",
       "      <td>97.0</td>\n",
       "      <td>NaN</td>\n",
       "      <td>1970.0</td>\n",
       "      <td>Boroondara</td>\n",
       "      <td>-37.8637</td>\n",
       "      <td>145.0632</td>\n",
       "      <td>Southern Metropolitan</td>\n",
       "      <td>10412.0</td>\n",
       "      <td>1.534317</td>\n",
       "      <td>-0.627625</td>\n",
       "    </tr>\n",
       "    <tr>\n",
       "      <th>7892</th>\n",
       "      <td>Glen Iris</td>\n",
       "      <td>2/8 Lithgow St</td>\n",
       "      <td>2</td>\n",
       "      <td>u</td>\n",
       "      <td>910000.0</td>\n",
       "      <td>S</td>\n",
       "      <td>Fletchers</td>\n",
       "      <td>29/04/2017</td>\n",
       "      <td>9.2</td>\n",
       "      <td>3146.0</td>\n",
       "      <td>...</td>\n",
       "      <td>157.0</td>\n",
       "      <td>97.0</td>\n",
       "      <td>1970.0</td>\n",
       "      <td>Boroondara</td>\n",
       "      <td>-37.8499</td>\n",
       "      <td>145.0814</td>\n",
       "      <td>Southern Metropolitan</td>\n",
       "      <td>10412.0</td>\n",
       "      <td>2.469954</td>\n",
       "      <td>-0.077094</td>\n",
       "    </tr>\n",
       "    <tr>\n",
       "      <th>7893</th>\n",
       "      <td>Glen Iris</td>\n",
       "      <td>2/23 Peace St</td>\n",
       "      <td>3</td>\n",
       "      <td>t</td>\n",
       "      <td>1315000.0</td>\n",
       "      <td>S</td>\n",
       "      <td>Harcourts</td>\n",
       "      <td>29/04/2017</td>\n",
       "      <td>9.2</td>\n",
       "      <td>3146.0</td>\n",
       "      <td>...</td>\n",
       "      <td>184.0</td>\n",
       "      <td>NaN</td>\n",
       "      <td>NaN</td>\n",
       "      <td>Boroondara</td>\n",
       "      <td>-37.8644</td>\n",
       "      <td>145.0630</td>\n",
       "      <td>Southern Metropolitan</td>\n",
       "      <td>10412.0</td>\n",
       "      <td>1.322255</td>\n",
       "      <td>-0.819220</td>\n",
       "    </tr>\n",
       "    <tr>\n",
       "      <th>7894</th>\n",
       "      <td>Glenroy</td>\n",
       "      <td>97 John St</td>\n",
       "      <td>3</td>\n",
       "      <td>h</td>\n",
       "      <td>683000.0</td>\n",
       "      <td>S</td>\n",
       "      <td>Stockdale</td>\n",
       "      <td>6/05/2017</td>\n",
       "      <td>13.0</td>\n",
       "      <td>3046.0</td>\n",
       "      <td>...</td>\n",
       "      <td>697.0</td>\n",
       "      <td>NaN</td>\n",
       "      <td>NaN</td>\n",
       "      <td>Moreland</td>\n",
       "      <td>-37.6969</td>\n",
       "      <td>144.9425</td>\n",
       "      <td>Northern Metropolitan</td>\n",
       "      <td>8870.0</td>\n",
       "      <td>-1.490025</td>\n",
       "      <td>0.741651</td>\n",
       "    </tr>\n",
       "  </tbody>\n",
       "</table>\n",
       "<p>7895 rows × 23 columns</p>\n",
       "</div>"
      ],
      "text/plain": [
       "          Suburb           Address  Rooms Type      Price Method    SellerG  \\\n",
       "0     Abbotsford      85 Turner St      2    h  1480000.0      S     Biggin   \n",
       "1     Abbotsford   25 Bloomburg St      2    h  1035000.0      S     Biggin   \n",
       "2     Abbotsford      5 Charles St      3    h  1465000.0     SP     Biggin   \n",
       "3     Abbotsford  40 Federation La      3    h   850000.0     PI     Biggin   \n",
       "4     Abbotsford       55a Park St      4    h  1600000.0     VB     Nelson   \n",
       "...          ...               ...    ...  ...        ...    ...        ...   \n",
       "7890   Glen Iris      28 Martin Rd      3    h  1601000.0      S   Marshall   \n",
       "7891   Glen Iris     1/18 Peace St      2    t   797000.0      S     Jellis   \n",
       "7892   Glen Iris    2/8 Lithgow St      2    u   910000.0      S  Fletchers   \n",
       "7893   Glen Iris     2/23 Peace St      3    t  1315000.0      S  Harcourts   \n",
       "7894     Glenroy        97 John St      3    h   683000.0      S  Stockdale   \n",
       "\n",
       "            Date  Distance  Postcode  ...  Landsize  BuildingArea  YearBuilt  \\\n",
       "0      3/12/2016       2.5    3067.0  ...     202.0           NaN        NaN   \n",
       "1      4/02/2016       2.5    3067.0  ...     156.0          79.0     1900.0   \n",
       "2      4/03/2017       2.5    3067.0  ...     134.0         150.0     1900.0   \n",
       "3      4/03/2017       2.5    3067.0  ...      94.0           NaN        NaN   \n",
       "4      4/06/2016       2.5    3067.0  ...     120.0         142.0     2014.0   \n",
       "...          ...       ...       ...  ...       ...           ...        ...   \n",
       "7890  20/05/2017       9.2    3146.0  ...     453.0         102.0     1930.0   \n",
       "7891  20/05/2017       9.2    3146.0  ...      97.0           NaN     1970.0   \n",
       "7892  29/04/2017       9.2    3146.0  ...     157.0          97.0     1970.0   \n",
       "7893  29/04/2017       9.2    3146.0  ...     184.0           NaN        NaN   \n",
       "7894   6/05/2017      13.0    3046.0  ...     697.0           NaN        NaN   \n",
       "\n",
       "      CouncilArea  Lattitude  Longtitude             Regionname  \\\n",
       "0           Yarra   -37.7996    144.9984  Northern Metropolitan   \n",
       "1           Yarra   -37.8079    144.9934  Northern Metropolitan   \n",
       "2           Yarra   -37.8093    144.9944  Northern Metropolitan   \n",
       "3           Yarra   -37.7969    144.9969  Northern Metropolitan   \n",
       "4           Yarra   -37.8072    144.9941  Northern Metropolitan   \n",
       "...           ...        ...         ...                    ...   \n",
       "7890   Boroondara   -37.8487    145.0592  Southern Metropolitan   \n",
       "7891   Boroondara   -37.8637    145.0632  Southern Metropolitan   \n",
       "7892   Boroondara   -37.8499    145.0814  Southern Metropolitan   \n",
       "7893   Boroondara   -37.8644    145.0630  Southern Metropolitan   \n",
       "7894     Moreland   -37.6969    144.9425  Northern Metropolitan   \n",
       "\n",
       "      Propertycount       PC1       PC2  \n",
       "0            4019.0 -1.389683  0.996754  \n",
       "1            4019.0 -1.182913  1.180819  \n",
       "2            4019.0 -1.189168  1.167866  \n",
       "3            4019.0 -1.395891  0.983875  \n",
       "4            4019.0 -1.190541  1.164553  \n",
       "...             ...       ...       ...  \n",
       "7890        10412.0  0.195195 -1.444169  \n",
       "7891        10412.0  1.534317 -0.627625  \n",
       "7892        10412.0  2.469954 -0.077094  \n",
       "7893        10412.0  1.322255 -0.819220  \n",
       "7894         8870.0 -1.490025  0.741651  \n",
       "\n",
       "[7895 rows x 23 columns]"
      ]
     },
     "execution_count": 25,
     "metadata": {},
     "output_type": "execute_result"
    }
   ],
   "source": [
    "# a la DF melb_df vamos a agregarle 2 columnas que van a tener los valores de las dos dimensiones de mayor variabilidad\n",
    "# PC1 y PC2\n",
    " \n",
    "melb_df_sample[['PC1', 'PC2']] = proyected_features[:,:2]\n",
    "melb_df_sample"
   ]
  },
  {
   "cell_type": "code",
   "execution_count": 26,
   "metadata": {
    "colab": {
     "base_uri": "https://localhost:8080/",
     "height": 410
    },
    "id": "5n9wYlP-NJ9l",
    "outputId": "915d0f38-b5ce-46ef-f785-5e103a59d73f"
   },
   "outputs": [
    {
     "data": {
      "image/png": "[encoded data removed]",
      "text/plain": [
       "<Figure size 432x288 with 1 Axes>"
      ]
     },
     "metadata": {
      "needs_background": "light"
     },
     "output_type": "display_data"
    }
   ],
   "source": [
    "sns.boxplot(data = melb_df_sample,\n",
    "            x = 'Price')\n",
    "plt.show()\n",
    "\n",
    "# en la figura de a continuacion solo nos vamos a quedar con las propiedades que valen menos de 2000000"
   ]
  },
  {
   "cell_type": "code",
   "execution_count": 44,
   "metadata": {
    "colab": {
     "base_uri": "https://localhost:8080/",
     "height": 644
    },
    "id": "BD18Esc5aNHZ",
    "outputId": "39489324-0a6f-49ed-c0d6-865fa72e266d"
   },
   "outputs": [
    {
     "data": {
      "image/png": "[encoded data removed]",
      "text/plain": [
       "<Figure size 720x720 with 1 Axes>"
      ]
     },
     "metadata": {
      "needs_background": "light"
     },
     "output_type": "display_data"
    }
   ],
   "source": [
    "data = melb_df_sample[melb_df_sample.Price < 2000000]\n",
    "fig = plt.figure(figsize=(10, 10))\n",
    "sns.scatterplot(data=data,\n",
    "                x='PC1',\n",
    "                y='PC2',\n",
    "                hue = 'Price')  # 'Landsize' 'Price' 'YearBuilt'\n",
    "plt.show()"
   ]
  },
  {
   "cell_type": "markdown",
   "metadata": {
    "id": "NzDTlBKMcGqg"
   },
   "source": [
    "Tenemos que volver a escalar todos los datos a un mismo rango. ¿Utilizamos estandarización o escalado linear?"
   ]
  },
  {
   "cell_type": "code",
   "execution_count": 28,
   "metadata": {
    "colab": {
     "base_uri": "https://localhost:8080/"
    },
    "id": "5ie9ROaRXuy0",
    "outputId": "dcee2710-2d30-49f0-fa30-1d9bdc989a5e"
   },
   "outputs": [
    {
     "data": {
      "text/plain": [
       "(-2.892464, 88.84818)"
      ]
     },
     "execution_count": 28,
     "metadata": {},
     "output_type": "execute_result"
    }
   ],
   "source": [
    "# TODO Here we have to pre-process the matrix before applying PCA\n",
    "from sklearn.preprocessing import StandardScaler\n",
    "std_scaler = StandardScaler()\n",
    "stdandard_dense_feature_matrix = std_scaler.fit_transform(dense_feature_matrix)\n",
    "np.min(stdandard_dense_feature_matrix), np.max(stdandard_dense_feature_matrix)"
   ]
  },
  {
   "cell_type": "code",
   "execution_count": 29,
   "metadata": {
    "colab": {
     "base_uri": "https://localhost:8080/"
    },
    "id": "cR-0A5zEfTdG",
    "outputId": "8b684899-dc37-4c5b-e168-a4f4432d0f9e"
   },
   "outputs": [
    {
     "data": {
      "text/plain": [
       "(7895, 15)"
      ]
     },
     "execution_count": 29,
     "metadata": {},
     "output_type": "execute_result"
    }
   ],
   "source": [
    "from sklearn.decomposition import PCA\n",
    "pca_std = PCA(n_components=15)\n",
    "pca_std.fit(stdandard_dense_feature_matrix)\n",
    "proyected_features_std = pca.transform(stdandard_dense_feature_matrix)\n",
    "proyected_features_std.shape"
   ]
  },
  {
   "cell_type": "code",
   "execution_count": 30,
   "metadata": {
    "colab": {
     "base_uri": "https://localhost:8080/"
    },
    "id": "gznwtFw4EMrT",
    "outputId": "577c50ab-6e9d-49fc-a12a-e7ba474cf0fc"
   },
   "outputs": [
    {
     "data": {
      "text/plain": [
       "array([0.02208828, 0.0172488 , 0.01447883, 0.01342774, 0.01286543,\n",
       "       0.01061691, 0.00997364, 0.00798667, 0.00720353, 0.00655346,\n",
       "       0.00647911, 0.00645632, 0.00644206, 0.00643911, 0.00643006],\n",
       "      dtype=float32)"
      ]
     },
     "execution_count": 30,
     "metadata": {},
     "output_type": "execute_result"
    }
   ],
   "source": [
    "pca_std.explained_variance_ratio_"
   ]
  },
  {
   "cell_type": "code",
   "execution_count": 31,
   "metadata": {
    "colab": {
     "base_uri": "https://localhost:8080/",
     "height": 334
    },
    "id": "3-NIBSEuESLc",
    "outputId": "272b8c30-2d8d-4f56-89eb-6d7cabcf9f0b"
   },
   "outputs": [
    {
     "data": {
      "text/plain": [
       "<matplotlib.legend.Legend at 0x1be494ce940>"
      ]
     },
     "execution_count": 31,
     "metadata": {},
     "output_type": "execute_result"
    },
    {
     "data": {
      "image/png": "[encoded data removed]",
      "text/plain": [
       "<Figure size 432x288 with 1 Axes>"
      ]
     },
     "metadata": {
      "needs_background": "light"
     },
     "output_type": "display_data"
    }
   ],
   "source": [
    "sns.lineplot(x=range(pca_std.n_components),\n",
    "                 y=pca_std.explained_variance_ratio_, label='Standardized')\n",
    "sns.lineplot(x=range(pca.n_components),\n",
    "                 y=pca.explained_variance_ratio_, label='Scaled')\n",
    "plt.ylabel(\"Ratio of variance explained\")\n",
    "plt.xlabel(\"Components\")\n",
    "plt.legend()"
   ]
  },
  {
   "cell_type": "code",
   "execution_count": 32,
   "metadata": {
    "colab": {
     "base_uri": "https://localhost:8080/"
    },
    "id": "6FDEL65CAcx0",
    "outputId": "62bdfdf9-8511-40ff-b47c-bb741eefd1db"
   },
   "outputs": [
    {
     "name": "stderr",
     "output_type": "stream",
     "text": [
      "c:\\users\\nico.-\\appdata\\local\\programs\\python\\python38\\lib\\site-packages\\pandas\\core\\indexing.py:659: SettingWithCopyWarning: \n",
      "A value is trying to be set on a copy of a slice from a DataFrame.\n",
      "Try using .loc[row_indexer,col_indexer] = value instead\n",
      "\n",
      "See the caveats in the documentation: https://pandas.pydata.org/pandas-docs/stable/user_guide/indexing.html#returning-a-view-versus-a-copy\n",
      "  self.obj[k] = np.nan\n",
      "<ipython-input-32-7e766ea33ee9>:1: SettingWithCopyWarning: \n",
      "A value is trying to be set on a copy of a slice from a DataFrame.\n",
      "Try using .loc[row_indexer,col_indexer] = value instead\n",
      "\n",
      "See the caveats in the documentation: https://pandas.pydata.org/pandas-docs/stable/user_guide/indexing.html#returning-a-view-versus-a-copy\n",
      "  melb_df_sample[['pca1_standard', 'pca2_standard']] = proyected_features_std[:,:2]\n",
      "c:\\users\\nico.-\\appdata\\local\\programs\\python\\python38\\lib\\site-packages\\pandas\\core\\indexing.py:1736: SettingWithCopyWarning: \n",
      "A value is trying to be set on a copy of a slice from a DataFrame.\n",
      "Try using .loc[row_indexer,col_indexer] = value instead\n",
      "\n",
      "See the caveats in the documentation: https://pandas.pydata.org/pandas-docs/stable/user_guide/indexing.html#returning-a-view-versus-a-copy\n",
      "  isetter(loc, value[:, i].tolist())\n"
     ]
    }
   ],
   "source": [
    "melb_df_sample[['pca1_standard', 'pca2_standard']] = proyected_features_std[:,:2]"
   ]
  },
  {
   "cell_type": "code",
   "execution_count": 37,
   "metadata": {
    "colab": {
     "base_uri": "https://localhost:8080/",
     "height": 644
    },
    "id": "y82yQTNXAjEX",
    "outputId": "d9449412-fce5-43aa-bd8f-33612d1869e5"
   },
   "outputs": [
    {
     "data": {
      "image/png": "[encoded data removed]",
      "text/plain": [
       "<Figure size 720x720 with 1 Axes>"
      ]
     },
     "metadata": {
      "needs_background": "light"
     },
     "output_type": "display_data"
    }
   ],
   "source": [
    "data = melb_df_sample\n",
    "fig = plt.figure(figsize=(10, 10))\n",
    "sns.scatterplot(data=data, x='pca1_standard', y='pca2_standard',\n",
    "                    hue='Type')  # 'Landsize' 'Price' 'YearBuilt'\n",
    "\n",
    "\n",
    "plt.show()"
   ]
  },
  {
   "cell_type": "code",
   "execution_count": null,
   "metadata": {
    "id": "Xd8D_RX9hbrE"
   },
   "outputs": [],
   "source": []
  },
  {
   "cell_type": "code",
   "execution_count": null,
   "metadata": {},
   "outputs": [],
   "source": []
  }
 ],
 "metadata": {
  "colab": {
   "collapsed_sections": [],
   "name": "Clase4_Encodings_PCA_2022.ipynb",
   "provenance": [
    {
     "file_id": "1XTwJoJ8dWFeG21n661X7g5fkUGY6Mx6b",
     "timestamp": 1651928744819
    }
   ]
  },
  "kernelspec": {
   "display_name": "Python 3",
   "language": "python",
   "name": "python3"
  },
  "language_info": {
   "codemirror_mode": {
    "name": "ipython",
    "version": 3
   },
   "file_extension": ".py",
   "mimetype": "text/x-python",
   "name": "python",
   "nbconvert_exporter": "python",
   "pygments_lexer": "ipython3",
   "version": "3.8.6"
  }
 },
 "nbformat": 4,
 "nbformat_minor": 1
}

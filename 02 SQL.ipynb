{
 "cells": [
  {
   "cell_type": "markdown",
   "metadata": {
    "id": "OgNeBiQGP2TC"
   },
   "source": [
    "Vamos a trabajar sobre la encuesta de Sysarmy sobre la industria Tech en Argentina, anio 2020."
   ]
  },
  {
   "cell_type": "code",
   "execution_count": 1,
   "metadata": {
    "executionInfo": {
     "elapsed": 14,
     "status": "ok",
     "timestamp": 1651231944602,
     "user": {
      "displayName": "Nicolás Ambrosis",
      "userId": "13396483969458523992"
     },
     "user_tz": 180
    },
    "id": "DfHz9ZqhPBwZ"
   },
   "outputs": [],
   "source": [
    "import pandas as pd\n",
    "from sqlalchemy import create_engine, text"
   ]
  },
  {
   "cell_type": "code",
   "execution_count": 2,
   "metadata": {
    "executionInfo": {
     "elapsed": 2040,
     "status": "ok",
     "timestamp": 1651231948993,
     "user": {
      "displayName": "Nicolás Ambrosis",
      "userId": "13396483969458523992"
     },
     "user_tz": 180
    },
    "id": "8ar170txPsWI"
   },
   "outputs": [],
   "source": [
    "url = 'https://cs.famaf.unc.edu.ar/~mteruel/datasets/diplodatos/sysarmy_survey_2020_processed.csv'\n",
    "df = pd.read_csv(url)"
   ]
  },
  {
   "cell_type": "code",
   "execution_count": 3,
   "metadata": {
    "colab": {
     "base_uri": "https://localhost:8080/"
    },
    "executionInfo": {
     "elapsed": 28,
     "status": "ok",
     "timestamp": 1651231951903,
     "user": {
      "displayName": "Nicolás Ambrosis",
      "userId": "13396483969458523992"
     },
     "user_tz": 180
    },
    "id": "0i0DS1xqPtH1",
    "outputId": "1b0cf687-096a-4aee-94c8-729a6c1ec44f"
   },
   "outputs": [
    {
     "data": {
      "text/plain": [
       "(6095, 48)"
      ]
     },
     "execution_count": 3,
     "metadata": {},
     "output_type": "execute_result"
    }
   ],
   "source": [
    "df.shape"
   ]
  },
  {
   "cell_type": "code",
   "execution_count": 4,
   "metadata": {
    "colab": {
     "base_uri": "https://localhost:8080/"
    },
    "executionInfo": {
     "elapsed": 318,
     "status": "ok",
     "timestamp": 1651231954674,
     "user": {
      "displayName": "Nicolás Ambrosis",
      "userId": "13396483969458523992"
     },
     "user_tz": 180
    },
    "id": "aSyQH4raPvQp",
    "outputId": "e2d7c96c-eab0-4e39-ea6e-d721b31bc9d1"
   },
   "outputs": [
    {
     "data": {
      "text/plain": [
       "profile_gender                                   object\n",
       "profile_age                                       int64\n",
       "work_country                                     object\n",
       "work_province                                    object\n",
       "profile_years_experience                        float64\n",
       "work_years_in_company                           float64\n",
       "work_years_in_current_position                  float64\n",
       "work_people_in_charge_of                          int64\n",
       "profile_studies_level                            object\n",
       "profile_studies_level_state                      object\n",
       "profile_career                                   object\n",
       "profile_university                               object\n",
       "profile_specialization_courses                   object\n",
       "profile_open_source_contributions                object\n",
       "profile_programming_as_hobby                     object\n",
       "work_role                                        object\n",
       "tools_platform                                   object\n",
       "tools_programming_languages                      object\n",
       "tools_frameworks                                 object\n",
       "tools_data_bases                                 object\n",
       "tools_qa_testing                                 object\n",
       "tools_IDEs                                       object\n",
       "tools_work_pc_os                                 object\n",
       "tools_cellphone_os                               object\n",
       "work_on_call_duty                                object\n",
       "salary_on_call_duty_charge                      float64\n",
       "work_on_call_duty_charge_type                    object\n",
       "work_contract_type                               object\n",
       "salary_monthly_BRUTO                            float64\n",
       "salary_monthly_NETO                             float64\n",
       "salary_in_usd                                    object\n",
       "salary_satisfaction                               int64\n",
       "salary_comparison_last_semester                   int64\n",
       "salary_has_bonus                                 object\n",
       "salary_bonus_tied_to                             object\n",
       "salary_inflation_adjustment_2020                 object\n",
       "salary_percentage_inflation_adjustment_2020     float64\n",
       "salary_month_last_inflation_adjustment            int64\n",
       "work_has_violence_situations                     object\n",
       "profile_sexual_orientation                       object\n",
       "profile_has_disabilities                         object\n",
       "profile_has_disabilities_hiring_difficulties     object\n",
       "company_employee_number                          object\n",
       "company_main_activity                            object\n",
       "company_recommended                               int64\n",
       "company_diversity_policies                        int64\n",
       "company_extra_benefits                           object\n",
       "company_best_companies_city                      object\n",
       "dtype: object"
      ]
     },
     "execution_count": 4,
     "metadata": {},
     "output_type": "execute_result"
    }
   ],
   "source": [
    "df.dtypes"
   ]
  },
  {
   "cell_type": "code",
   "execution_count": 5,
   "metadata": {
    "executionInfo": {
     "elapsed": 356,
     "status": "ok",
     "timestamp": 1651231960015,
     "user": {
      "displayName": "Nicolás Ambrosis",
      "userId": "13396483969458523992"
     },
     "user_tz": 180
    },
    "id": "hR7FX6hSQBnM"
   },
   "outputs": [],
   "source": [
    "engine = create_engine('sqlite:///sysarmy.sqlite3', echo=True)"
   ]
  },
  {
   "cell_type": "code",
   "execution_count": 6,
   "metadata": {
    "colab": {
     "base_uri": "https://localhost:8080/"
    },
    "executionInfo": {
     "elapsed": 461,
     "status": "ok",
     "timestamp": 1651231962872,
     "user": {
      "displayName": "Nicolás Ambrosis",
      "userId": "13396483969458523992"
     },
     "user_tz": 180
    },
    "id": "FHuUJUZ9b-H-",
    "outputId": "2191003e-dd39-4664-d80e-a0055a4053a9"
   },
   "outputs": [
    {
     "name": "stdout",
     "output_type": "stream",
     "text": [
      "2022-05-29 16:55:38,757 INFO sqlalchemy.engine.Engine PRAGMA main.table_info(\"survey\")\n",
      "2022-05-29 16:55:38,762 INFO sqlalchemy.engine.Engine [raw sql] ()\n",
      "2022-05-29 16:55:38,764 INFO sqlalchemy.engine.Engine PRAGMA temp.table_info(\"survey\")\n",
      "2022-05-29 16:55:38,766 INFO sqlalchemy.engine.Engine [raw sql] ()\n",
      "2022-05-29 16:55:38,773 INFO sqlalchemy.engine.Engine BEGIN (implicit)\n",
      "2022-05-29 16:55:38,776 INFO sqlalchemy.engine.Engine \n",
      "CREATE TABLE survey (\n",
      "\t\"index\" BIGINT, \n",
      "\tprofile_gender TEXT, \n",
      "\tprofile_age BIGINT, \n",
      "\twork_country TEXT, \n",
      "\twork_province TEXT, \n",
      "\tprofile_years_experience FLOAT, \n",
      "\twork_years_in_company FLOAT, \n",
      "\twork_years_in_current_position FLOAT, \n",
      "\twork_people_in_charge_of BIGINT, \n",
      "\tprofile_studies_level TEXT, \n",
      "\tprofile_studies_level_state TEXT, \n",
      "\tprofile_career TEXT, \n",
      "\tprofile_university TEXT, \n",
      "\tprofile_specialization_courses TEXT, \n",
      "\tprofile_open_source_contributions TEXT, \n",
      "\tprofile_programming_as_hobby TEXT, \n",
      "\twork_role TEXT, \n",
      "\ttools_platform TEXT, \n",
      "\ttools_programming_languages TEXT, \n",
      "\ttools_frameworks TEXT, \n",
      "\ttools_data_bases TEXT, \n",
      "\ttools_qa_testing TEXT, \n",
      "\t\"tools_IDEs\" TEXT, \n",
      "\ttools_work_pc_os TEXT, \n",
      "\ttools_cellphone_os TEXT, \n",
      "\twork_on_call_duty TEXT, \n",
      "\tsalary_on_call_duty_charge FLOAT, \n",
      "\twork_on_call_duty_charge_type TEXT, \n",
      "\twork_contract_type TEXT, \n",
      "\t\"salary_monthly_BRUTO\" FLOAT, \n",
      "\t\"salary_monthly_NETO\" FLOAT, \n",
      "\tsalary_in_usd TEXT, \n",
      "\tsalary_satisfaction BIGINT, \n",
      "\tsalary_comparison_last_semester BIGINT, \n",
      "\tsalary_has_bonus TEXT, \n",
      "\tsalary_bonus_tied_to TEXT, \n",
      "\tsalary_inflation_adjustment_2020 TEXT, \n",
      "\tsalary_percentage_inflation_adjustment_2020 FLOAT, \n",
      "\tsalary_month_last_inflation_adjustment BIGINT, \n",
      "\twork_has_violence_situations TEXT, \n",
      "\tprofile_sexual_orientation TEXT, \n",
      "\tprofile_has_disabilities TEXT, \n",
      "\tprofile_has_disabilities_hiring_difficulties TEXT, \n",
      "\tcompany_employee_number TEXT, \n",
      "\tcompany_main_activity TEXT, \n",
      "\tcompany_recommended BIGINT, \n",
      "\tcompany_diversity_policies BIGINT, \n",
      "\tcompany_extra_benefits TEXT, \n",
      "\tcompany_best_companies_city TEXT\n",
      ")\n",
      "\n",
      "\n",
      "2022-05-29 16:55:38,778 INFO sqlalchemy.engine.Engine [no key 0.00210s] ()\n",
      "2022-05-29 16:55:38,788 INFO sqlalchemy.engine.Engine CREATE INDEX ix_survey_index ON survey (\"index\")\n",
      "2022-05-29 16:55:38,791 INFO sqlalchemy.engine.Engine [no key 0.00214s] ()\n",
      "2022-05-29 16:55:38,802 INFO sqlalchemy.engine.Engine COMMIT\n",
      "2022-05-29 16:55:38,832 INFO sqlalchemy.engine.Engine BEGIN (implicit)\n",
      "2022-05-29 16:55:39,152 INFO sqlalchemy.engine.Engine INSERT INTO survey (\"index\", profile_gender, profile_age, work_country, work_province, profile_years_experience, work_years_in_company, work_years_in_current_position, work_people_in_charge_of, profile_studies_level, profile_studies_level_state, profile_career, profile_university, profile_specialization_courses, profile_open_source_contributions, profile_programming_as_hobby, work_role, tools_platform, tools_programming_languages, tools_frameworks, tools_data_bases, tools_qa_testing, \"tools_IDEs\", tools_work_pc_os, tools_cellphone_os, work_on_call_duty, salary_on_call_duty_charge, work_on_call_duty_charge_type, work_contract_type, \"salary_monthly_BRUTO\", \"salary_monthly_NETO\", salary_in_usd, salary_satisfaction, salary_comparison_last_semester, salary_has_bonus, salary_bonus_tied_to, salary_inflation_adjustment_2020, salary_percentage_inflation_adjustment_2020, salary_month_last_inflation_adjustment, work_has_violence_situations, profile_sexual_orientation, profile_has_disabilities, profile_has_disabilities_hiring_difficulties, company_employee_number, company_main_activity, company_recommended, company_diversity_policies, company_extra_benefits, company_best_companies_city) VALUES (?, ?, ?, ?, ?, ?, ?, ?, ?, ?, ?, ?, ?, ?, ?, ?, ?, ?, ?, ?, ?, ?, ?, ?, ?, ?, ?, ?, ?, ?, ?, ?, ?, ?, ?, ?, ?, ?, ?, ?, ?, ?, ?, ?, ?, ?, ?, ?, ?)\n",
      "2022-05-29 16:55:39,154 INFO sqlalchemy.engine.Engine [generated in 0.27408s] ((0, 'Mujer', 26, 'Argentina', 'Ciudad Autónoma de Buenos Aires', 3.0, 3.0, 3.0, 0, 'Universitario', 'En curso', 'Ingeniería en Sistemas de Información', 'UTN - Universidad Tecnológica Nacional', 'Sí, los pagó un empleador', 'No', 'Sí', 'Consultant', 'Ninguna', 'Ninguno', 'Ninguno', 'Ninguna', 'Ninguna', 'Ninguno', 'GNU/Linux', 'Android', 'No', 0.0, 'Bruto', 'Full-Time', 53000.0, 43000.0, None, 1, 1, 'No', 'No recibo bono', 'No', 0.0, 0, 'En mi trabajo actual', 'Homosexual', None, None, '501-1000', 'Servicios / Consultoría de Software / Digital', 7, 2, 'Capacitaciones y/o cursos, Comidas pagas / subvencionadas, Cuota para universidad / posgrados, Descuentos varios (Mercado Pago, Clarín 365, Club La Nación, etc), Horarios flexibles, Lactario en la oficina, Licencia de paternidad/maternidad extendida, Viáticos', None), (1, 'Hombre', 29, 'Argentina', 'Corrientes', 5.0, 2.0, 2.0, 4, 'Universitario', 'En curso', 'Ingeniería en Sistemas de Información', 'UTN - Universidad Tecnológica Nacional', 'Sí, de forma particular, Sí, los pagó un empleador', 'No', 'Sí', 'Developer', 'Docker, Google Cloud Platform/App Engine', 'HTML, Javascript, Python', 'Django, jQuery', 'Informix, MySQL, PostgreSQL', 'Ninguna', 'IPython / Jupyter, Sublime Text, Visual Studio Code', 'GNU/Linux', 'Android', 'No', 0.0, 'Bruto', 'Full-Time', 79000.0, 63000.0, None, 2, 2, 'Menos de un sueldo', 'Performance de la compañía', 'Uno', 10.0, 1, 'Jamás', 'Heterosexual', 'Visual', 'No', '201-500', 'Otras industrias', 8, 9, 'Horarios flexibles, Stock options / RSUs, Viáticos', None), (2, 'Mujer', 22, 'Argentina', 'Ciudad Autónoma de Buenos Aires', 2.0, 0.0, 0.0, 0, 'Secundario', 'Completado', None, None, 'Sí, de forma particular, Sí, los pagó un empleador', 'No', 'Sí', 'Infosec', 'Linux, VMWare', 'Ninguno', 'Ninguno', 'Ninguna', 'Ninguna', 'Ninguno', 'Windows', 'iOS', 'No', 0.0, 'Porcentaje de mi sueldo', 'Full-Time', 160000.0, 127000.0, None, 3, 3, 'Un sueldo', 'Performance individual', 'No', 0.0, 0, 'En un trabajo anterior', 'Bisexual o queer', None, 'No', '2001-5000', 'Otras industrias', 6, 9, 'Clases de gimnasia online, Comidas pagas / subvencionadas, Descuentos varios (Mercado Pago, Clarín 365, Club La Nación, etc)', None), (3, 'Hombre', 39, 'Argentina', 'Corrientes', 15.0, 15.0, 13.0, 5, 'Posgrado', 'Incompleto', 'Licenciatura en Sistemas', 'UNNE Universidad Nacional del Nordeste', 'Sí, de forma particular, Sí, los pagó un empleador', 'Sí', 'Sí', 'SysAdmin / DevOps / SRE', 'Docker, Linux, OpenStack, VMWare, Windows Server', 'Bash/Shell, C, CSS, HTML, Java, Javascript, PHP, Python, SQL', 'jQuery, WordPress', 'Microsoft SQL Server, MySQL', 'PHPUnit', 'Eclipse, Visual Studio Code', 'GNU/Linux', 'Android', 'Sí, pasiva', 0.0, 'Bruto', 'Full-Time', 130000.0, 102000.0, None, 3, 1, 'No', 'No recibo bono', 'No', 0.0, 0, 'En mi trabajo actual', 'Heterosexual', None, None, '501-1000', 'Otras industrias', 7, 6, 'Abono de celular, Capacitaciones y/o cursos, Comidas pagas / subvencionadas, Cuota para universidad / posgrados, Horarios flexibles, Lactario en la oficina, Vacaciones flexibles (adicionales a las reglamentarias), Viáticos', None), (4, 'Hombre', 32, 'Argentina', 'Ciudad Autónoma de Buenos Aires', 9.0, 6.0, 6.0, 0, 'Universitario', 'En curso', 'Licenciatura en Ciencias dela Computación', 'UBA - Universidad de Buenos Aires', 'No', 'No', 'Sí', 'Developer', 'Amazon Web Services', 'CSS, HTML, Javascript, SQL, TypeScript', 'Angular, Node.js', 'Amazon DynamoDB, MongoDB, MySQL', 'Jest', 'Vim', 'macOS', 'Android', 'No', 0.0, 'Porcentaje de mi sueldo', 'Full-Time', 140000.0, 106000.0, None, 1, 1, 'Menos de un sueldo', 'Performance individual', 'No', 0.0, 0, 'Jamás', 'Heterosexual', None, None, '11-50', 'Servicios / Consultoría de Software / Digital', 6, 6, 'Clases de idiomas, Horarios flexibles, Vacaciones flexibles (adicionales a las reglamentarias)', None), (5, 'Hombre', 25, 'Argentina', 'Ciudad Autónoma de Buenos Aires', 1.0, 0.0, 0.0, 0, 'Terciario', 'Incompleto', 'Tecnicatura Superior en Programación', 'UTN - Universidad Tecnológica Nacional', 'No', 'No', 'Sí', 'Developer', 'Ninguna', 'Java, Javascript', 'Node.js, React.js, Spark', 'MySQL', 'Jest, JUnit, Postman', 'IntelliJ, Visual Studio Code', 'macOS', 'Android', 'No', 0.0, 'Bruto', 'Full-Time', 54000.0, 44000.0, None, 2, 2, 'No', 'No recibo bono', 'Uno', 15.0, 5, 'Jamás', 'Heterosexual', None, 'No', '10001+', 'Producto basado en Software', 8, 8, 'Clases de gimnasia online, Clases de idiomas, Comidas pagas / subvencionadas', None), (6, 'Hombre', 33, 'Argentina', 'Ciudad Autónoma de Buenos Aires', 1.0, 1.0, 1.0, 0, 'Universitario', 'Incompleto', 'Ingeniería en Informática', 'UBA - Universidad de Buenos Aires', 'Sí, de forma particular, Sí, los pagó un empleador', 'Sí', 'Sí', 'Developer', 'Amazon Web Services, Docker, Linux, Serverless', 'Javascript', 'Node.js', 'MongoDB, MySQL, Redis', 'Postman', 'Visual Studio Code', 'GNU/Linux', 'Android', 'No', 0.0, 'Porcentaje de mi sueldo', 'Full-Time', 75000.0, 62400.0, None, 3, 3, 'No', 'No recibo bono', 'Dos', 8.0, 4, 'Jamás', 'Heterosexual', None, None, '51-100', 'Producto basado en Software', 7, 7, 'Capacitaciones y/o cursos, Clases de gimnasia online, Clases de idiomas, Comidas pagas / subvencionadas, Horarios flexibles, Licencia de paternidad/maternidad extendida, Vacaciones flexibles (adicionales a las reglamentarias)', 'Mercado Libre'), (7, 'Hombre', 23, 'Argentina', 'Provincia de Buenos Aires', 0.0, 0.0, 0.0, 0, 'Terciario', 'En curso', 'Tecnicatura en Programación', 'UTN - Universidad Tecnológica Nacional', 'Sí, de forma particular', 'No', 'Sí', 'Developer', 'IBM Cloud / Watson', 'Java, Javascript', 'Spring, Liferay', 'MySQL', 'Ninguna', 'Eclipse, IntelliJ, NetBeans, Notepad++', 'Windows', 'iOS', 'No', 0.0, 'Porcentaje de mi sueldo', 'Full-Time', 45000.0, 37500.0, None, 2, 2, 'No', 'No recibo bono', 'No', 0.0, 0, 'Jamás', 'Heterosexual', None, None, '11-50', 'Producto basado en Software', 8, 10, 'Ninguna de las anteriores', 'Globant, Accenture, Making Sense, Globalogic')  ... displaying 10 of 6095 total bound parameter sets ...  (6093, 'Hombre', 28, 'Argentina', 'La Pampa', 5.0, 3.0, 2.0, 0, 'Terciario', 'En curso', 'Ingeniería en Sistemas de Información', 'UNLPAM', 'Sí, los pagó un empleador', 'No', 'Sí', 'SysAdmin / DevOps / SRE', 'Amazon Web Services, Docker, Kubernetes, Linux', 'C, C++, HTML, Java, Javascript, PHP, Python, SQL', 'Symfony', 'MariaDB, MongoDB, MySQL, Neo4j, PostgreSQL, Redis', 'PHPUnit, Postman', 'Nano, PHPStorm, PyCharm, Vim, Visual Studio Code', 'GNU/Linux', 'Android', 'Sí, pasiva', 10.0, 'Neto', 'Full-Time', 86000.0, 72.0, None, 2, 1, 'No', 'No recibo bono', 'Uno', 20.0, 3, 'Jamás', 'Heterosexual', None, 'No', '51-100', 'Servicios / Consultoría de Software / Digital', 5, 7, 'Capacitaciones y/o cursos', 'Solo Nubity'), (6094, 'Hombre', 33, 'Argentina', 'GBA', 5.0, 5.0, 3.0, 0, 'Terciario', 'Incompleto', 'Analista de Sistemas', 'UAI - Universidad Abierta Interamericana', 'Sí, de forma particular', 'No', 'No', 'SysAdmin / DevOps / SRE', 'Linux, OpenStack, VMWare, Windows Server', 'Ninguno de los anteriores', 'Ninguno de los anteriores', 'Ninguna de las anteriores', 'Ninguna de las anteriores', 'Ninguno de los anteriores', 'Windows', 'iOS', 'No', 0.0, 'Neto', 'Full-Time', 85000.0, 65000.0, None, 3, 3, 'No', 'No recibo bono', 'Dos', 4.0, 7, 'Jamás', 'Heterosexual', 'no', 'No', '501-1000', 'Otras industrias', 9, 7, 'Abono de celular, Comidas pagas / subvencionadas', None))\n"
     ]
    },
    {
     "name": "stdout",
     "output_type": "stream",
     "text": [
      "2022-05-29 16:55:39,243 INFO sqlalchemy.engine.Engine COMMIT\n"
     ]
    }
   ],
   "source": [
    "df.to_sql('survey', con=engine, if_exists=\"replace\")"
   ]
  },
  {
   "cell_type": "markdown",
   "metadata": {
    "id": "O1Kmne_LUwCi"
   },
   "source": [
    "### Query#1\n",
    "Personas con un salario neto mayor a $100,000.\n",
    "Limitar la visualizacion a 10 entradas."
   ]
  },
  {
   "cell_type": "code",
   "execution_count": 7,
   "metadata": {
    "executionInfo": {
     "elapsed": 327,
     "status": "ok",
     "timestamp": 1651233289140,
     "user": {
      "displayName": "Nicolás Ambrosis",
      "userId": "13396483969458523992"
     },
     "user_tz": 180
    },
    "id": "3nfXPGvNUu9K"
   },
   "outputs": [],
   "source": [
    "query1 = '''\n",
    "SELECT *\n",
    "FROM survey\n",
    "WHERE salary_monthly_NETO > 100000\n",
    "LIMIT 10'''"
   ]
  },
  {
   "cell_type": "markdown",
   "metadata": {
    "id": "ZIiIe0JqGa3x"
   },
   "source": [
    "## Query#2\n",
    "Cuanta gente tiene un salario mensual neto superior a los $100,000?\n",
    "query2 = \"SELECT COUNT(1) FROM survey WHERE salary_monthly_NETO > 100000\""
   ]
  },
  {
   "cell_type": "code",
   "execution_count": 8,
   "metadata": {
    "executionInfo": {
     "elapsed": 518,
     "status": "ok",
     "timestamp": 1651232660326,
     "user": {
      "displayName": "Nicolás Ambrosis",
      "userId": "13396483969458523992"
     },
     "user_tz": 180
    },
    "id": "TEEQ2rS5IaiQ"
   },
   "outputs": [],
   "source": [
    "query2 = '''\n",
    "SELECT COUNT(1)\n",
    "FROM survey\n",
    "WHERE salary_monthly_NETO > 100000\n",
    "'''"
   ]
  },
  {
   "cell_type": "markdown",
   "metadata": {
    "id": "nOVEwVB9Gqfv"
   },
   "source": [
    "## Query#3\n",
    "Cual es el salario promedio de todos las personas que contestaron la encuesta?\n",
    "query3 = \"SELECT AVG(salary_monthly_NETO) FROM survey\""
   ]
  },
  {
   "cell_type": "code",
   "execution_count": 9,
   "metadata": {
    "executionInfo": {
     "elapsed": 284,
     "status": "ok",
     "timestamp": 1651232718869,
     "user": {
      "displayName": "Nicolás Ambrosis",
      "userId": "13396483969458523992"
     },
     "user_tz": 180
    },
    "id": "xMrnA9JhIvlb"
   },
   "outputs": [],
   "source": [
    "query3 = '''\n",
    "SELECT AVG(salary_monthly_NETO)\n",
    "FROM survey\n",
    "'''"
   ]
  },
  {
   "cell_type": "markdown",
   "metadata": {
    "id": "P8ifG4FJGqpC"
   },
   "source": [
    "## Query#4\n",
    "Cual es el salario promedio de las mujeres"
   ]
  },
  {
   "cell_type": "code",
   "execution_count": 10,
   "metadata": {
    "executionInfo": {
     "elapsed": 305,
     "status": "ok",
     "timestamp": 1651233039368,
     "user": {
      "displayName": "Nicolás Ambrosis",
      "userId": "13396483969458523992"
     },
     "user_tz": 180
    },
    "id": "7hAL23PiI9fq"
   },
   "outputs": [],
   "source": [
    "query4 = '''\n",
    "SELECT profile_gender,\n",
    "        AVG(salary_monthly_NETO)\n",
    "FROM survey\n",
    "WHERE profile_gender == \"Mujer\"\n",
    "'''"
   ]
  },
  {
   "cell_type": "markdown",
   "metadata": {
    "id": "RklheT5mHNP2"
   },
   "source": [
    "## Query#5\n",
    "Cual es el salario promedio de los hombres?"
   ]
  },
  {
   "cell_type": "code",
   "execution_count": 11,
   "metadata": {
    "executionInfo": {
     "elapsed": 628,
     "status": "ok",
     "timestamp": 1651233021879,
     "user": {
      "displayName": "Nicolás Ambrosis",
      "userId": "13396483969458523992"
     },
     "user_tz": 180
    },
    "id": "kJNtCxuGJw2s"
   },
   "outputs": [],
   "source": [
    "query5 ='''\n",
    "SELECT profile_gender,\n",
    "       AVG(salary_monthly_NETO)\n",
    "FROM survey\n",
    "WHERE profile_gender == \"Hombre\"\n",
    "'''"
   ]
  },
  {
   "cell_type": "markdown",
   "metadata": {
    "id": "iahCuh0IHWaD"
   },
   "source": [
    "## Query#6\n",
    "Cual es el salario promedio agrupado por genero?"
   ]
  },
  {
   "cell_type": "code",
   "execution_count": 12,
   "metadata": {
    "executionInfo": {
     "elapsed": 305,
     "status": "ok",
     "timestamp": 1651233378007,
     "user": {
      "displayName": "Nicolás Ambrosis",
      "userId": "13396483969458523992"
     },
     "user_tz": 180
    },
    "id": "cmpiiogUJ3xZ"
   },
   "outputs": [],
   "source": [
    "query6 = '''\n",
    "SELECT profile_gender, AVG(salary_monthly_NETO)\n",
    "FROM survey\n",
    "GROUP BY profile_gender'''\n"
   ]
  },
  {
   "cell_type": "markdown",
   "metadata": {
    "id": "BYQCgJJzHWpm"
   },
   "source": [
    "## Query#7\n",
    "Cual es el salario promedio de aquellas personas con mas de 5 anios de experiencia?"
   ]
  },
  {
   "cell_type": "code",
   "execution_count": 13,
   "metadata": {
    "executionInfo": {
     "elapsed": 316,
     "status": "ok",
     "timestamp": 1651233406073,
     "user": {
      "displayName": "Nicolás Ambrosis",
      "userId": "13396483969458523992"
     },
     "user_tz": 180
    },
    "id": "6HZZiN4pKb91"
   },
   "outputs": [],
   "source": [
    "query7 = '''\n",
    "SELECT profile_gender, AVG(salary_monthly_NETO)\n",
    "FROM survey\n",
    "WHERE profile_years_experience > 5\n",
    "GROUP BY profile_gender\n",
    "'''"
   ]
  },
  {
   "cell_type": "markdown",
   "metadata": {
    "id": "GD4evwc_IFpf"
   },
   "source": [
    "## Query#8\n",
    "Cual es el salario promedio agrupado por genero, solo para aquellos generos que esten representados en la encuesta por mas de 100 personas"
   ]
  },
  {
   "cell_type": "code",
   "execution_count": 14,
   "metadata": {
    "executionInfo": {
     "elapsed": 282,
     "status": "ok",
     "timestamp": 1651233400704,
     "user": {
      "displayName": "Nicolás Ambrosis",
      "userId": "13396483969458523992"
     },
     "user_tz": 180
    },
    "id": "cp1dRtN2Ktfr"
   },
   "outputs": [],
   "source": [
    "query8 = '''\n",
    "SELECT profile_gender, AVG(salary_monthly_NETO) as avg_salary\n",
    "FROM survey\n",
    "WHERE profile_years_experience > 5\n",
    "GROUP BY profile_gender\n",
    "HAVING COUNT(*) > 100\n",
    "ORDER BY AVG(salary_monthly_NETO) DESC\n",
    "'''"
   ]
  },
  {
   "cell_type": "code",
   "execution_count": 15,
   "metadata": {
    "executionInfo": {
     "elapsed": 308,
     "status": "ok",
     "timestamp": 1651233444153,
     "user": {
      "displayName": "Nicolás Ambrosis",
      "userId": "13396483969458523992"
     },
     "user_tz": 180
    },
    "id": "2k5DBZmgGZly"
   },
   "outputs": [],
   "source": [
    "queries = [query1, query2, query3, query4, query5, query6, query7, query8]"
   ]
  },
  {
   "cell_type": "code",
   "execution_count": 16,
   "metadata": {
    "colab": {
     "base_uri": "https://localhost:8080/"
    },
    "executionInfo": {
     "elapsed": 403,
     "status": "ok",
     "timestamp": 1651233446923,
     "user": {
      "displayName": "Nicolás Ambrosis",
      "userId": "13396483969458523992"
     },
     "user_tz": 180
    },
    "id": "h57G3OrPU8iu",
    "outputId": "c28aca72-e87b-451e-ada6-6f6e262e60d1",
    "scrolled": false
   },
   "outputs": [
    {
     "name": "stdout",
     "output_type": "stream",
     "text": [
      "2022-05-29 16:55:39,518 INFO sqlalchemy.engine.Engine \n",
      "SELECT *\n",
      "FROM survey\n",
      "WHERE salary_monthly_NETO > 100000\n",
      "LIMIT 10\n",
      "2022-05-29 16:55:39,522 INFO sqlalchemy.engine.Engine [raw sql] ()\n",
      "\n",
      "SELECT *\n",
      "FROM survey\n",
      "WHERE salary_monthly_NETO > 100000\n",
      "LIMIT 10\n",
      "(2, 'Mujer', 22, 'Argentina', 'Ciudad Autónoma de Buenos Aires', 2.0, 0.0, 0.0, 0, 'Secundario', 'Completado', None, None, 'Sí, de forma particular, Sí, los pagó un empleador', 'No', 'Sí', 'Infosec', 'Linux, VMWare', 'Ninguno', 'Ninguno', 'Ninguna', 'Ninguna', 'Ninguno', 'Windows', 'iOS', 'No', 0.0, 'Porcentaje de mi sueldo', 'Full-Time', 160000.0, 127000.0, None, 3, 3, 'Un sueldo', 'Performance individual', 'No', 0.0, 0, 'En un trabajo anterior', 'Bisexual o queer', None, 'No', '2001-5000', 'Otras industrias', 6, 9, 'Clases de gimnasia online, Comidas pagas / subvencionadas, Descuentos varios (Mercado Pago, Clarín 365, Club La Nación, etc)', None)\n",
      "(3, 'Hombre', 39, 'Argentina', 'Corrientes', 15.0, 15.0, 13.0, 5, 'Posgrado', 'Incompleto', 'Licenciatura en Sistemas', 'UNNE Universidad Nacional del Nordeste', 'Sí, de forma particular, Sí, los pagó un empleador', 'Sí', 'Sí', 'SysAdmin / DevOps / SRE', 'Docker, Linux, OpenStack, VMWare, Windows Server', 'Bash/Shell, C, CSS, HTML, Java, Javascript, PHP, Python, SQL', 'jQuery, WordPress', 'Microsoft SQL Server, MySQL', 'PHPUnit', 'Eclipse, Visual Studio Code', 'GNU/Linux', 'Android', 'Sí, pasiva', 0.0, 'Bruto', 'Full-Time', 130000.0, 102000.0, None, 3, 1, 'No', 'No recibo bono', 'No', 0.0, 0, 'En mi trabajo actual', 'Heterosexual', None, None, '501-1000', 'Otras industrias', 7, 6, 'Abono de celular, Capacitaciones y/o cursos, Comidas pagas / subvencionadas, Cuota para universidad / posgrados, Horarios flexibles, Lactario en la oficina, Vacaciones flexibles (adicionales a las reglamentarias), Viáticos', None)\n",
      "(4, 'Hombre', 32, 'Argentina', 'Ciudad Autónoma de Buenos Aires', 9.0, 6.0, 6.0, 0, 'Universitario', 'En curso', 'Licenciatura en Ciencias dela Computación', 'UBA - Universidad de Buenos Aires', 'No', 'No', 'Sí', 'Developer', 'Amazon Web Services', 'CSS, HTML, Javascript, SQL, TypeScript', 'Angular, Node.js', 'Amazon DynamoDB, MongoDB, MySQL', 'Jest', 'Vim', 'macOS', 'Android', 'No', 0.0, 'Porcentaje de mi sueldo', 'Full-Time', 140000.0, 106000.0, None, 1, 1, 'Menos de un sueldo', 'Performance individual', 'No', 0.0, 0, 'Jamás', 'Heterosexual', None, None, '11-50', 'Servicios / Consultoría de Software / Digital', 6, 6, 'Clases de idiomas, Horarios flexibles, Vacaciones flexibles (adicionales a las reglamentarias)', None)\n",
      "(26, 'Hombre', 24, 'Argentina', 'Ciudad Autónoma de Buenos Aires', 3.0, 0.0, 0.0, 0, 'Universitario', 'Incompleto', 'Ingeniería en Sistemas de Información', 'UAI - Universidad Abierta Interamericana', 'Sí, de forma particular', 'Sí', 'Sí', 'Developer', 'Amazon Web Services', 'Java, Javascript, Objective-C, TypeScript', 'Node.js, React.js', 'Ninguna', 'Jest, Mocha', 'Visual Studio Code', 'macOS', 'Android', 'No', 0.0, 'Bruto', 'Full-Time', 260000.0, 200000.0, None, 4, 4, 'De uno a tres sueldos', 'Performance de la compañía', 'Uno', 15.0, 3, 'Jamás', 'Heterosexual', None, None, '11-50', 'Producto basado en Software', 10, 8, 'Capacitaciones y/o cursos, Horarios flexibles, Licencia de paternidad/maternidad extendida', None)\n",
      "(30, 'Hombre', 53, 'Argentina', 'GBA', 30.0, 10.0, 10.0, 5, 'Universitario', 'En curso', 'Licenciatura en Ciencia de Datos', 'UNaB', 'Sí, de forma particular, Sí, los pagó un empleador', 'No', 'Sí', 'SysAdmin / DevOps / SRE', 'Docker, Linux, Windows Server', 'ABAP, Javascript, PHP, Python, SQL', 'Bootstrap, CodeIgniter, Django, jQuery, SAP', 'IBM Db2, MySQL, SQLite', 'PHPUnit', 'Vim, Visual Studio Code', 'GNU/Linux', 'Android', 'No', 0.0, 'Porcentaje de mi sueldo', 'Full-Time', 160000.0, 137000.0, None, 3, 1, 'Menos de un sueldo', 'Performance de la compañía', 'Uno', 8.0, 2, 'En un trabajo anterior', 'Heterosexual', None, None, '201-500', 'Otras industrias', 6, 1, 'Abono de celular, Comidas pagas / subvencionadas, Horarios flexibles, Vacaciones flexibles (adicionales a las reglamentarias)', None)\n",
      "(33, 'Hombre', 35, 'Argentina', 'Ciudad Autónoma de Buenos Aires', 12.0, 4.0, 0.0, 0, 'Universitario', 'Incompleto', 'Licenciatura en Ciencias dela Computación', 'UBA - Universidad de Buenos Aires', 'No', 'Sí', 'No', 'Data Scientist / Data Engineer', 'Amazon Web Services, Linux', 'Bash/Shell, Python', 'Flask', 'Apache Hive, Presto', 'Ninguna', 'Vim', 'GNU/Linux', 'Android', 'Sí, activa', 0.0, 'Porcentaje de mi sueldo', 'Full-Time', 268000.0, 168000.0, None, 4, 4, 'Menos de un sueldo', 'Performance individual', 'Dos', 17.0, 7, 'Jamás', 'Heterosexual', None, 'No', '11-50', 'Producto basado en Software', 5, 3, 'Clases de idiomas, Horarios flexibles', None)\n",
      "(36, 'Hombre', 33, 'Argentina', 'Ciudad Autónoma de Buenos Aires', 14.0, 6.0, 4.0, 38, 'Secundario', 'Completado', None, None, 'Sí, de forma particular, Sí, los pagó un empleador', 'No', 'Sí', 'Manager / Director', 'Amazon Web Services, Azure, Docker, Linux, Windows Server', 'Bash/Shell, Python', 'Ninguno', 'Ninguna', 'Ninguna', 'Ninguno', 'macOS', 'iOS', 'No', 0.0, 'Bruto', 'Full-Time', 196000.0, 132000.0, None, 3, 3, 'De uno a tres sueldos', 'Performance de la compañía', 'Uno', 25.0, 3, 'Jamás', '¿Qué les importa?', None, None, '101-200', 'Servicios / Consultoría de Software / Digital', 9, 10, 'Capacitaciones y/o cursos, Clases de idiomas, Horarios flexibles, Licencia de paternidad/maternidad extendida', None)\n",
      "(39, 'Hombre', 40, 'Argentina', 'Ciudad Autónoma de Buenos Aires', 20.0, 10.0, 5.0, 0, 'Universitario', 'Incompleto', 'Licenciatura en Ciencias dela Computación', 'UBA - Universidad de Buenos Aires', 'No', 'No', 'Sí', 'Architect', 'Amazon Web Services, Azure, Kubernetes, Linux, Serverless', 'Java, Javascript', 'Node.js, React.js, Spring', 'MongoDB, PostgreSQL, Redis', 'JUnit, Katalon, Postman', 'Eclipse, Visual Studio Code', 'Windows', 'Android', 'No', 0.0, 'Bruto', 'Full-Time', 174000.0, 122000.0, None, 1, 2, 'No', 'No recibo bono', 'Uno', 23.0, 6, 'Jamás', 'Heterosexual', None, None, '101-200', 'Servicios / Consultoría de Software / Digital', 5, 10, 'Clases de idiomas, Comidas pagas / subvencionadas, Horarios flexibles', None)\n",
      "(41, 'Hombre', 35, 'Argentina', 'Ciudad Autónoma de Buenos Aires', 15.0, 3.0, 1.5, 16, 'Universitario', 'Incompleto', 'Ingeniería en Informática', 'UFASTA', 'Sí, los pagó un empleador', 'Sí', 'No', 'Manager / Director', 'Amazon Web Services, Docker, Google Cloud Platform/App Engine, IBM Cloud / Watson, Kubernetes, Linux', 'Bash/Shell, Go, Python', 'Ninguno', 'Cassandra, ElasticSearch, MariaDB, PostgreSQL', 'Ninguna', 'Atom, Vim', 'macOS', 'iOS', 'Sí, pasiva', 0.0, 'Porcentaje de mi sueldo', 'Full-Time', 450000.0, 280000.0, 'Mi sueldo está dolarizado', 3, 2, 'De uno a tres sueldos', 'Performance de la compañía', 'No', 0.0, 0, 'Jamás', 'Heterosexual', None, 'No', '201-500', 'Producto basado en Software', 9, 10, 'Abono de celular, Capacitaciones y/o cursos, Clases de idiomas, Comidas pagas / subvencionadas, Estacionamiento gratuito / subvencionado, Horarios fl ... (6 characters truncated) ... s, Lactario en la oficina, Licencia de paternidad/maternidad extendida, Stock options / RSUs, Vacaciones flexibles (adicionales a las reglamentarias)', 'Medallia, auth0, wildlife')\n",
      "(42, 'Hombre', 30, 'Argentina', 'Ciudad Autónoma de Buenos Aires', 10.0, 7.0, 0.0, 0, 'Universitario', 'Completado', 'Licenciatura en Informática', 'UTN - Universidad Tecnológica Nacional', 'Sí, de forma particular', 'No', 'No', 'Developer', 'Docker, Kubernetes', 'Go', 'Ninguno', 'MySQL', 'Postman, SoapUI', 'Visual Studio Code', 'macOS', 'Android', 'No', 0.0, 'Porcentaje de mi sueldo', 'Full-Time', 180000.0, 130000.0, None, 3, 2, 'Menos de un sueldo', 'Mix de las anteriores', 'Uno', 10.0, 7, 'Jamás', 'Heterosexual', None, None, '5001-10000', 'Producto basado en Software', 9, 9, 'Clases de gimnasia online, Clases de idiomas, Comidas pagas / subvencionadas, Cuota para universidad / posgrados, Descuentos varios (Mercado Pago, Clarín 365, Club La Nación, etc), Lactario en la oficina, Licencia de paternidad/maternidad extendida', 'Mercado libre')\n",
      "\n",
      "\n",
      "\n",
      "2022-05-29 16:55:39,538 INFO sqlalchemy.engine.Engine \n",
      "SELECT COUNT(1)\n",
      "FROM survey\n",
      "WHERE salary_monthly_NETO > 100000\n",
      "\n"
     ]
    },
    {
     "name": "stdout",
     "output_type": "stream",
     "text": [
      "2022-05-29 16:55:39,539 INFO sqlalchemy.engine.Engine [raw sql] ()\n",
      "\n",
      "SELECT COUNT(1)\n",
      "FROM survey\n",
      "WHERE salary_monthly_NETO > 100000\n",
      "\n",
      "(1657,)\n",
      "\n",
      "\n",
      "\n",
      "2022-05-29 16:55:39,562 INFO sqlalchemy.engine.Engine \n",
      "SELECT AVG(salary_monthly_NETO)\n",
      "FROM survey\n",
      "\n",
      "2022-05-29 16:55:39,565 INFO sqlalchemy.engine.Engine [raw sql] ()\n",
      "\n",
      "SELECT AVG(salary_monthly_NETO)\n",
      "FROM survey\n",
      "\n",
      "(94907.9491018188,)\n",
      "\n",
      "\n",
      "\n",
      "2022-05-29 16:55:39,587 INFO sqlalchemy.engine.Engine \n",
      "SELECT profile_gender,\n",
      "        AVG(salary_monthly_NETO)\n",
      "FROM survey\n",
      "WHERE profile_gender == \"Mujer\"\n",
      "\n",
      "2022-05-29 16:55:39,588 INFO sqlalchemy.engine.Engine [raw sql] ()\n",
      "\n",
      "SELECT profile_gender,\n",
      "        AVG(salary_monthly_NETO)\n",
      "FROM survey\n",
      "WHERE profile_gender == \"Mujer\"\n",
      "\n",
      "('Mujer', 73501.4144647577)\n",
      "\n",
      "\n",
      "\n",
      "2022-05-29 16:55:39,605 INFO sqlalchemy.engine.Engine \n",
      "SELECT profile_gender,\n",
      "       AVG(salary_monthly_NETO)\n",
      "FROM survey\n",
      "WHERE profile_gender == \"Hombre\"\n",
      "\n",
      "2022-05-29 16:55:39,606 INFO sqlalchemy.engine.Engine [raw sql] ()\n",
      "\n",
      "SELECT profile_gender,\n",
      "       AVG(salary_monthly_NETO)\n",
      "FROM survey\n",
      "WHERE profile_gender == \"Hombre\"\n",
      "\n",
      "('Hombre', 98836.06355825246)\n",
      "\n",
      "\n",
      "\n",
      "2022-05-29 16:55:39,628 INFO sqlalchemy.engine.Engine \n",
      "SELECT profile_gender, AVG(salary_monthly_NETO)\n",
      "FROM survey\n",
      "GROUP BY profile_gender\n",
      "2022-05-29 16:55:39,630 INFO sqlalchemy.engine.Engine [raw sql] ()\n",
      "\n",
      "SELECT profile_gender, AVG(salary_monthly_NETO)\n",
      "FROM survey\n",
      "GROUP BY profile_gender\n",
      "('Hombre', 98836.06355825246)\n",
      "('Mujer', 73501.4144647577)\n",
      "('Otros', 95441.35483870968)\n",
      "\n",
      "\n",
      "\n",
      "2022-05-29 16:55:39,651 INFO sqlalchemy.engine.Engine \n",
      "SELECT profile_gender, AVG(salary_monthly_NETO)\n",
      "FROM survey\n",
      "WHERE profile_years_experience > 5\n",
      "GROUP BY profile_gender\n",
      "\n",
      "2022-05-29 16:55:39,652 INFO sqlalchemy.engine.Engine [raw sql] ()\n",
      "\n",
      "SELECT profile_gender, AVG(salary_monthly_NETO)\n",
      "FROM survey\n",
      "WHERE profile_years_experience > 5\n",
      "GROUP BY profile_gender\n",
      "\n",
      "('Hombre', 117715.70699665888)\n",
      "('Mujer', 89313.04217633411)\n",
      "('Otros', 128284.42857142857)\n",
      "\n",
      "\n",
      "\n",
      "2022-05-29 16:55:39,667 INFO sqlalchemy.engine.Engine \n",
      "SELECT profile_gender, AVG(salary_monthly_NETO) as avg_salary\n",
      "FROM survey\n",
      "WHERE profile_years_experience > 5\n",
      "GROUP BY profile_gender\n",
      "HAVING COUNT(*) > 100\n",
      "ORDER BY AVG(salary_monthly_NETO) DESC\n",
      "\n",
      "2022-05-29 16:55:39,668 INFO sqlalchemy.engine.Engine [raw sql] ()\n",
      "\n",
      "SELECT profile_gender, AVG(salary_monthly_NETO) as avg_salary\n",
      "FROM survey\n",
      "WHERE profile_years_experience > 5\n",
      "GROUP BY profile_gender\n",
      "HAVING COUNT(*) > 100\n",
      "ORDER BY AVG(salary_monthly_NETO) DESC\n",
      "\n",
      "('Hombre', 117715.70699665888)\n",
      "('Mujer', 89313.04217633411)\n",
      "\n",
      "\n",
      "\n"
     ]
    }
   ],
   "source": [
    "with engine.connect() as con:\n",
    "    for query in queries:\n",
    "      rs = con.execute(query)\n",
    "      print(query)\n",
    "      for row in rs:\n",
    "          print(row)\n",
    "\n",
    "      print('\\n\\n')"
   ]
  }
 ],
 "metadata": {
  "colab": {
   "authorship_tag": "ABX9TyPR+YTRbWHg0VgV1LiLB60n",
   "collapsed_sections": [],
   "name": "02_NMA_SQL.ipynb",
   "provenance": []
  },
  "kernelspec": {
   "display_name": "Python 3",
   "language": "python",
   "name": "python3"
  },
  "language_info": {
   "codemirror_mode": {
    "name": "ipython",
    "version": 3
   },
   "file_extension": ".py",
   "mimetype": "text/x-python",
   "name": "python",
   "nbconvert_exporter": "python",
   "pygments_lexer": "ipython3",
   "version": "3.8.6"
  }
 },
 "nbformat": 4,
 "nbformat_minor": 1
}
